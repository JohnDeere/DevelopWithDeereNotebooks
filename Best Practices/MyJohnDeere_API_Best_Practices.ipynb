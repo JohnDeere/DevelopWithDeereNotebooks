{
  "nbformat": 4,
  "nbformat_minor": 0,
  "metadata": {
    "colab": {
      "name": "MyJohnDeere API Best Practices.ipynb",
      "version": "0.3.2",
      "provenance": [],
      "collapsed_sections": []
    },
    "kernelspec": {
      "name": "python3",
      "display_name": "Python 3"
    }
  },
  "cells": [
    {
      "metadata": {
        "id": "6YgVGcSU2nOC",
        "colab_type": "text"
      },
      "cell_type": "markdown",
      "source": [
        "#MyJohnDeere API Best Practices#"
      ]
    },
    {
      "metadata": {
        "id": "pk6N-wuO2u0x",
        "colab_type": "text"
      },
      "cell_type": "markdown",
      "source": [
        "This notebook contains hints, best practices, and errata to help use the MyJohnDeere API's."
      ]
    },
    {
      "metadata": {
        "id": "2lfqNzsU2qn6",
        "colab_type": "text"
      },
      "cell_type": "markdown",
      "source": [
        "*Note - This notebook requires that you be logged into Google.*\n",
        "\n",
        "Copyright (c) 2019 Deere & Company\n",
        " \n",
        "This software may be modified and distributed under the terms\n",
        "of the MIT license.  See the LICENSE file for details."
      ]
    },
    {
      "metadata": {
        "id": "r43eiWuFhkF8",
        "colab_type": "text"
      },
      "cell_type": "markdown",
      "source": [
        "Most MyJohnDeere API's use the same Accept header of application/vnd.deere.axiom.v3+json. We'll make that the default."
      ]
    },
    {
      "metadata": {
        "id": "qgoONuXxg-XX",
        "colab_type": "code",
        "colab": {}
      },
      "cell_type": "code",
      "source": [
        "MYJOHNDEERE_V3_JSON_HEADERS = {'Accept': 'application/vnd.deere.axiom.v3+json',\n",
        "               'Content-Type': 'application/vnd.deere.axiom.v3+json'}"
      ],
      "execution_count": 0,
      "outputs": []
    },
    {
      "metadata": {
        "id": "nr4M2Mbtg_8B",
        "colab_type": "text"
      },
      "cell_type": "markdown",
      "source": [
        "#OAuth 1.0a Code for working with MyJohnDeere API#"
      ]
    },
    {
      "metadata": {
        "id": "PkcCA1g4hI_p",
        "colab_type": "text"
      },
      "cell_type": "markdown",
      "source": [
        "Using the application you created on https://developer.deere.com, copy the \"App Id\" and \"Shared Secret\" and use those to set the `client_key` and `client_secret` variables\n",
        "\n",
        "![Newly Created App](https://github.com/joshuajcarson/DevelopWithDeereOnboardingPictures/raw/master/NewlyCreatedApp.jpg)"
      ]
    },
    {
      "metadata": {
        "id": "fvsFxGB5g0Vd",
        "colab_type": "code",
        "colab": {}
      },
      "cell_type": "code",
      "source": [
        "client_key = 'place_client_key_here'\n",
        "client_secret = 'place_client_secret_here'\n",
        "\n",
        "#Leave the line below as-is. It's there as a reminder - if you did not enter your client key and secret, then the rest of this workbook will not work.\n",
        "assert(client_key != 'place_client_key_here' and client_secret != 'place_client_secret_here'), \"You need to update your client_key and client_secret in this cell\""
      ],
      "execution_count": 0,
      "outputs": []
    },
    {
      "metadata": {
        "id": "8kABe8_Jh_XT",
        "colab_type": "text"
      },
      "cell_type": "markdown",
      "source": [
        "First, you need to authenticate. You can find more details on the oAuth flow on [our developer site](https://developer.deere.com/#!help&doc=.%2Fgetstarted%2FHELPOAuth.htm&anchor=), and there are additional examples and an onboarding workbook in [github](https://github.com/johndeere/). \n\n",
		"The verification flow is similar to what John Deere customers will see when they grant access to your application. For this notebook, we're using a verifier code. In a real application, you may want to provide a callback url so that users do not have to copy and paste a verification code."
      ]
    },
    {
      "metadata": {
        "id": "Rmk-7u1YhrZF",
        "colab_type": "code",
        "colab": {}
      },
      "cell_type": "code",
      "source": [
        "from requests_oauthlib import OAuth1Session\n",
        "request_url = 'https://sandboxapi.deere.com/platform/oauth/request_token'\n",
        "authorize_url = 'https://my.deere.com/consentToUseOfData'\n",
        "access_token_url = 'https://sandboxapi.deere.com/platform/oauth/access_token'\n",
        "def get_authorization_url(resource_owner_key):\n",
        "  return authorize_url + '?oauth_token=' + resource_owner_key\n",
        "\n",
        "def get_request_token_information_for_myjohndeere_api():\n",
        "  oauth_request_token_step = OAuth1Session(client_key, client_secret=client_secret, callback_uri='oob')\n",
        "  request_token_response = oauth_request_token_step.fetch_request_token(request_url)\n",
        "  resource_owner_key = request_token_response.get('oauth_token')\n",
        "  resource_owner_secret = request_token_response.get('oauth_token_secret')\n",
        "  complete_authorize_url = get_authorization_url(resource_owner_key)\n",
        "  return resource_owner_key, resource_owner_secret, complete_authorize_url \n",
		"request_resource_owner_key, request_resource_owner_secret, complete_authorize_url = get_request_token_information_for_myjohndeere_api()\n",
        "\"Click On \" + complete_authorize_url + \" and paste the results in the next cell as the verifier variable\""
      ],
      "execution_count": 0,
      "outputs": []
    },
    {
      "metadata": {
        "id": "C9uRUrvPiyrU",
        "colab_type": "text"
      },
      "cell_type": "markdown",
      "source": [
        "Follow the link from the results of the cell above, and copy the \"Verifier\" from that screen into the cell below\n",
        "![Verifier Screen](https://github.com/joshuajcarson/DevelopWithDeereOnboardingPictures/raw/master/VerifierScreen.jpg)"
      ]
    },
    {
      "metadata": {
        "id": "b6UdOu3Liv_V",
        "colab_type": "code",
        "colab": {}
      },
      "cell_type": "code",
      "source": [
        "verifier = 'place_verifier_here'\n",
        "\n",
        "#Leave the line below as-is. It is a reminder, because you need the verifier in order to finish authenticating.\n",
        "assert(verifier != 'place_verifier_here'), 'The verifier in this cell must be replaced by the verified that you should get from MyJohnDeere'"
      ],
      "execution_count": 0,
      "outputs": []
    },
    {
      "metadata": {
        "id": "1zMkHVGsy8Gw",
        "colab_type": "text"
      },
      "cell_type": "markdown",
      "source": [
        "Using the `verifier` from the step above, we can exchange the oAuth request token for an access token. The access token is what you will use to authenticate all the other API calls."
      ]
    },
    {
      "metadata": {
        "id": "ANPDXKKpIy1T",
        "colab_type": "code",
        "colab": {}
      },
      "cell_type": "code",
      "source": [
        "def get_verifier_token_information_for_myjohndeere_api(resource_owner_key, resource_owner_secret, verifier):\n",
        "  oauth_verifier_step = OAuth1Session(client_key,\n",
        "                          client_secret=client_secret,\n",
        "                          resource_owner_key=resource_owner_key,\n",
        "                          resource_owner_secret=resource_owner_secret,\n",
        "                          verifier=verifier)\n",
        "  oauth_tokens = oauth_verifier_step.fetch_access_token(access_token_url)\n",
        "  resource_owner_key = oauth_tokens.get('oauth_token')\n",
        "  resource_owner_secret = oauth_tokens.get('oauth_token_secret')\n",
        "  return resource_owner_key, resource_owner_secret\n\n",
		        "verifier_resource_owner_key, verifier_resource_owner_secret = get_verifier_token_information_for_myjohndeere_api(request_resource_owner_key, request_resource_owner_secret, verifier)\n",
        "def get_oauth_session_for_myjohndeere_api(resource_owner_key, resource_owner_secret):\n",
        "  return OAuth1Session(client_key, client_secret=client_secret, resource_owner_key=resource_owner_key, resource_owner_secret=resource_owner_secret)\n\n",
		"oauth_session = get_oauth_session_for_myjohndeere_api(verifier_resource_owner_key, verifier_resource_owner_secret)"
      ],
      "execution_count": 0,
      "outputs": []
    },
    {
      "metadata": {
        "id": "YBxPMx9XjQQM",
        "colab_type": "text"
      },
      "cell_type": "markdown",
      "source": [
        "#Using `links` within the MyJohnDeere API#"
      ]
    },
    {
      "metadata": {
        "id": "QU1CJqUS0rCU",
        "colab_type": "text"
      },
      "cell_type": "markdown",
      "source": [
        "The MyJohnDeere API uses [HATEOAS](https://en.wikipedia.org/wiki/HATEOAS) links. Let's explore by calling the `API Catalog` and following links from there."
      ]
    },
    {
      "metadata": {
        "id": "OERc0Lm-DjtM",
        "colab_type": "code",
        "colab": {}
      },
      "cell_type": "code",
      "source": [
        "api_catalog_url = 'https://sandboxapi.deere.com/platform/'\n",
        "\n",
        "api_catalog_response = oauth_session.get(api_catalog_url, headers = MYJOHNDEERE_V3_JSON_HEADERS)\n",
        "\n",
        "api_catalog_response.json()"
      ],
      "execution_count": 0,
      "outputs": []
    },
    {
      "metadata": {
        "id": "CEVz2jB7QISb",
        "colab_type": "text"
      },
      "cell_type": "markdown",
      "source": [
        "Adding a helper method can make links easier to use. The following functions convert from the JSON link object into a python dictionary. Now the API Catalog is a little easier to work with."
      ]
    },
    {
      "metadata": {
        "id": "AMnebzBXi-zk",
        "colab_type": "code",
        "colab": {}
      },
      "cell_type": "code",
      "source": [
        "def convert_links_array_to_dictionary(links_a):\n",
        "    link_dict = dict()\n",
        "    for link_o in links_a:\n",
        "        key = link_o['rel']\n",
        "        value = link_o['uri']\n",
        "        link_dict[key] = value\n",
        "    return link_dict\n",
        "api_catalog_links_as_dictionary = convert_links_array_to_dictionary(api_catalog_response.json()['links'])\n",
        "api_catalog_links_as_dictionary\n\n",
        "def replace_links_as_object_array_with_links_as_dictionary(object_with_links_to_convert):\n",
        "  object_with_links_converted = object_with_links_to_convert\n",
        "  object_with_links_converted['links'] = convert_links_array_to_dictionary(object_with_links_to_convert['links'])\n",
        "  return object_with_links_converted\n\n",
		        "api_catalog_with_clean_links = replace_links_as_object_array_with_links_as_dictionary(api_catalog_response.json())\n",
        "api_catalog_with_clean_links"
      ],
      "execution_count": 0,
      "outputs": []
    },
    {
      "metadata": {
        "id": "9Wy5lIQwgyLB",
        "colab_type": "text"
      },
      "cell_type": "markdown",
      "source": [
        "That looks easier to work with. The `rel` has been converted to an attribute and the `uri` is now the value. Let us take it a step farther and modify the object itself to make using the responses themselves a bit easier."
      ]
    },
    {
      "metadata": {
        "id": "sKIkIIZhikol",
        "colab_type": "text"
      },
      "cell_type": "markdown",
      "source": [
        "When calling the MyJohnDeere API for resources, you can control which links can appear in the response. This is done via the `showLinks` request param, where the values act as a filter to on the returned links. Let's look at the `API Catalog` again, but with fewer links.\n\n*Extra tip:* Not every link will be present; links only appear for API endpoints that you have permission to use. If your user context changes or you switch organizations, the available links may change."
      ]
    },
    {
      "metadata": {
        "id": "kJ1k7TbqmXls",
        "colab_type": "code",
        "colab": {}
      },
      "cell_type": "code",
      "source": [
        "api_catalog_showLinks_request_param = {'showLinks': 'currentToken,currentUser,organizations'}\n",
        "\n",
        "api_catalog_response_with_request_param = oauth_session.get(api_catalog_url, headers = MYJOHNDEERE_V3_JSON_HEADERS, params = api_catalog_showLinks_request_param)\n",
        "api_catalog_response_with_request_param.json()"
      ],
      "execution_count": 0,
      "outputs": []
    },
    {
      "metadata": {
        "id": "hhcozknjuKFd",
        "colab_type": "text"
      },
      "cell_type": "markdown",
      "source": [
        "Using the `showLinks` request parameter is useful once you know which links your application needs. Fewer links will result in faster API responses.\n",
        "\n",
        "Now lets chain our functions together to get just the links we want."
      ]
    },
    {
      "metadata": {
        "id": "vDsObp0b4jxv",
        "colab_type": "code",
        "colab": {}
      },
      "cell_type": "code",
      "source": [
        "def create_show_links_request_param(links_to_show_comma_separated = None):\n",
        "  return {'showLinks' : links_to_show_comma_separated}\n",
        "\n",
        "def get_myjohndeere_api_json_response(oauth_session, myjohndeere_uri, headers = MYJOHNDEERE_V3_JSON_HEADERS, params = None):\n",
        "  json_response = oauth_session.get(myjohndeere_uri, headers = headers, params = params).json()\n",
        "  return replace_links_as_object_array_with_links_as_dictionary(json_response)\n\n",
		        "api_catalog_response_with_clean_links = get_myjohndeere_api_json_response(oauth_session, myjohndeere_uri = api_catalog_url, params = create_show_links_request_param('currentToken,currentUser,organizations'))\n",
        "api_catalog_response_with_clean_links"
      ],
      "execution_count": 0,
      "outputs": []
    },
    {
      "metadata": {
        "id": "GzWwEoJ103Jr",
        "colab_type": "text"
      },
      "cell_type": "markdown",
      "source": [
        "Now that we can manage links, try making additional API calls by following the links. Let's follow the '`currentUser`' link to see more information about the currently logged in user."
      ]
    },
    {
      "metadata": {
        "id": "czehqgpO1EGe",
        "colab_type": "code",
        "colab": {}
      },
      "cell_type": "code",
      "source": [
        "current_user_link = api_catalog_response_with_clean_links['links']['currentUser']\n",
        "current_user_response = get_myjohndeere_api_json_response(oauth_session, myjohndeere_uri = current_user_link)\n",
        "current_user_response"
      ],
      "execution_count": 0,
      "outputs": []
    },
    {
      "metadata": {
        "id": "tfJns6TM67zH",
        "colab_type": "text"
      },
      "cell_type": "markdown",
      "source": [
        "#Working with the `Collection` object : counts, nextPage links, and combining results#"
      ]
    },
    {
      "metadata": {
        "id": "v91BZTmV7IDl",
        "colab_type": "text"
      },
      "cell_type": "markdown",
      "source": [
        "Many of the MyJohnDeere API's return collections of objects, as compared to the single object responses we've seen with the `API Catalog` and `currentUser` endpoints. These collections are wrapped in a JSON object that contains metadata to support pagination. You can see an example by following the '`organizations`' link from the `currentUser`"
      ]
    },
    {
      "metadata": {
        "id": "-Sv-9GTRyaoe",
        "colab_type": "code",
        "colab": {}
      },
      "cell_type": "code",
      "source": [
        "organizations_for_current_user_link = current_user_response['links']['organizations']\n",
        "get_myjohndeere_api_json_response(oauth_session, myjohndeere_uri = organizations_for_current_user_link)"
      ],
      "execution_count": 0,
      "outputs": []
    },
    {
      "metadata": {
        "id": "3hhsSopZ1iTw",
        "colab_type": "text"
      },
      "cell_type": "markdown",
      "source": [
        "The collection wrapper contains links for '`self`', '`nextPage`', and '`previousPage`'. There is also a `total` attribute that represents how many objects exist within the collection across all pages, and a `values` attribute that contains the actual collection of objects. \n"
      ]
    },
    {
      "metadata": {
        "id": "Fea8lF9m6KFM",
        "colab_type": "code",
        "colab": {}
      },
      "cell_type": "code",
      "source": [
        "def get_myjohndeere_api_collection_json_response(oauth_session, myjohndeere_uri, headers = MYJOHNDEERE_V3_JSON_HEADERS, params = None):\n",
        "  collection_json_response = get_myjohndeere_api_json_response(oauth_session, myjohndeere_uri, headers, params)\n",
        "  values_from_collection = collection_json_response['values']\n",
        "  values_to_add_back_to_collection = []\n",
        "  for object in values_from_collection:\n",
        "    values_to_add_back_to_collection.append(replace_links_as_object_array_with_links_as_dictionary(object))\n",
        "  collection_json_response['values'] = values_to_add_back_to_collection\n",
        "  return collection_json_response"
      ],
      "execution_count": 0,
      "outputs": []
    },
    {
      "metadata": {
        "id": "bcXYCP-g7OdF",
        "colab_type": "code",
        "colab": {}
      },
      "cell_type": "code",
      "source": [
        "organizations_for_current_user_link = current_user_response['links']['organizations']\n",
        "get_myjohndeere_api_collection_json_response(oauth_session, myjohndeere_uri = organizations_for_current_user_link)"
      ],
      "execution_count": 0,
      "outputs": []
    },
    {
      "metadata": {
        "id": "I7fvRu-67Zkh",
        "colab_type": "text"
      },
      "cell_type": "markdown",
      "source": [
        "Now that we have simplified the JSON that we're working with, we will next handle pagination. The MyJohnDeere API uses [pagination](https://developer.deere.com/#!help&doc=.%2Fgetstarted%2FPaginationGuide.htm&anchor=) in order to reduce the load per API request. \n",
        "\n",
        "In order to control pagination, MyJohnDeere API's use matrix parameters `start` and `count`. To demonstrate, set the `count` to one."
      ]
    },
    {
      "metadata": {
        "id": "09hHciaF_Zb9",
        "colab_type": "code",
        "colab": {}
      },
      "cell_type": "code",
      "source": [
        "organizations_for_current_user_link = current_user_response['links']['organizations']\n",
        "organizations_for_current_user_link_with_count_of_1 = organizations_for_current_user_link + ';count=1'\n",
        "get_myjohndeere_api_collection_json_response(oauth_session, myjohndeere_uri = organizations_for_current_user_link_with_count_of_1)"
      ],
      "execution_count": 0,
      "outputs": []
    },
    {
      "metadata": {
        "id": "HAC45XiBAe73",
        "colab_type": "text"
      },
      "cell_type": "markdown",
      "source": [
        "Assuming the current user is a member of two organizations, we now see a `nextPage` link which has `start=1` and `count=1`. Let's enhance our last method to follow the `nextPage` link."
      ]
    },
    {
      "metadata": {
        "id": "FCji14f0AdZs",
        "colab_type": "code",
        "colab": {}
      },
      "cell_type": "code",
      "source": [
        "def get_myjohndeere_api_collection_values_for_all_pages(oauth_session, myjohndeere_uri, headers = MYJOHNDEERE_V3_JSON_HEADERS, params = None):\n",
        "  collection_response = get_myjohndeere_api_collection_json_response(oauth_session, myjohndeere_uri, headers, params)\n",
        "  collection_links = collection_response['links']\n",
        "  while 'nextPage' in collection_links:\n",
        "    next_page_response = get_myjohndeere_api_collection_json_response(oauth_session, collection_links['nextPage'], headers, params)\n",
        "    collection_links = next_page_response['links']\n",
        "    collection_response['values'].extend(next_page_response['values'])\n",
        "  return collection_response['values']"
      ],
      "execution_count": 0,
      "outputs": []
    },
    {
      "metadata": {
        "id": "Y1GjLH7_CoFM",
        "colab_type": "code",
        "colab": {}
      },
      "cell_type": "code",
      "source": [
        "organizations_for_current_user_link = current_user_response['links']['organizations']\n",
        "organizations_for_current_user_link_with_count_of_1 = organizations_for_current_user_link + ';count=1'\n",
        "get_myjohndeere_api_collection_values_for_all_pages(oauth_session, myjohndeere_uri = organizations_for_current_user_link_with_count_of_1)"
      ],
      "execution_count": 0,
      "outputs": []
    },
    {
      "metadata": {
        "id": "hCyJBlauDgGz",
        "colab_type": "text"
      },
      "cell_type": "markdown",
      "source": [
        "To be more realistic, add another helper function to set the pagination count to 100. This is the maximum page size."
      ]
    },
    {
      "metadata": {
        "id": "MQlDr75skMG8",
        "colab_type": "code",
        "colab": {}
      },
      "cell_type": "code",
      "source": [
        "def default_to_count_100(followable_link) :\n",
        "  return followable_link + \";count=100\""
      ],
      "execution_count": 0,
      "outputs": []
    },
    {
      "metadata": {
        "id": "Jbu4DKruEww3",
        "colab_type": "text"
      },
      "cell_type": "markdown",
      "source": [
        "To bring all of this together, get the organization list with a page size of 100. Add a `showLinks` request param to limit links to just the `machines`, `files`, and `fields` links. \n\n*Extra tip: * If you don't want pagination, you can disable it by adding a header named `No_Paging` with value of `true`. For some endpoints you can also disable links by adding a query param `showLinks=none`."
      ]
    },
    {
      "metadata": {
        "id": "gWLzWjSZFISd",
        "colab_type": "code",
        "colab": {}
      },
      "cell_type": "code",
      "source": [
        "show_links_request_param_for_organization_list = {'showLinks' : 'machines,files,fields'}\n",
        "\n",
        "organizations_for_current_user_link = current_user_response['links']['organizations']\n",
        "organizations_for_current_user_link_with_page_size_of_100 = default_to_count_100(organizations_for_current_user_link)\n",
        "get_myjohndeere_api_collection_values_for_all_pages(oauth_session, organizations_for_current_user_link_with_page_size_of_100, params = show_links_request_param_for_organization_list)"
      ],
      "execution_count": 0,
      "outputs": []
    },
    {
      "metadata": {
        "id": "ArGDFKULtHcJ",
        "colab_type": "text"
      },
      "cell_type": "markdown",
      "source": [
        "#Using `embed` to optimize data retrieval#"
      ]
    },
    {
      "metadata": {
        "id": "Oi5-pgcEtSni",
        "colab_type": "text"
      },
      "cell_type": "markdown",
      "source": [
        "To replace multiple API calls to retrieve several related objects, the MyJohnDeere API's support the concept of an '`embed`'. ",
		"Instead of retrieving a list of fields and then making a series of API calls to get the associated `client` and `farm` for each field, you can request that clients and farms are embedded in the initial fields call. Then each `field` in the fields list will have pre-populated `client` and `farm` attributes.\n",
        "\n",
        "Let's start by finding an organization that has a `fields` link."
      ]
    },
    {
      "metadata": {
        "id": "zWcq79aTwFLD",
        "colab_type": "code",
        "colab": {}
      },
      "cell_type": "code",
      "source": [
        "show_field_links_request_param_for_organization_list = {'showLinks' : 'fields'}\n",
        "\n",
        "organization_list_for_logged_in_user = get_myjohndeere_api_collection_values_for_all_pages(oauth_session, organizations_for_current_user_link_with_page_size_of_100, params = show_field_links_request_param_for_organization_list)\n",
        "organization_which_has_fields_link = None\n",
        "for organization in organization_list_for_logged_in_user:\n",
        "  if 'fields' in organization['links']:\n",
        "    organization_which_has_fields_link = organization\n",
        "    break\n",
        "\n",
        "assert(organization_which_has_fields_link != None), \"The logged in user is not a staff member of any organization in which they can see fields\"\n",
        "organization_which_has_fields_link"
      ],
      "execution_count": 0,
      "outputs": []
    },
    {
      "metadata": {
        "id": "meCjyKSYx5NJ",
        "colab_type": "text"
      },
      "cell_type": "markdown",
      "source": [
        "Let's follow the `fields` link to see which fields are available to our user within this organization."
      ]
    },
    {
      "metadata": {
        "id": "b04ZJSsEyNOR",
        "colab_type": "code",
        "colab": {}
      },
      "cell_type": "code",
      "source": [
        "organization_field_list_uri = organization_which_has_fields_link['links']['fields']\n",
        "organization_field_list_uri_with_count_100 = default_to_count_100(organization_field_list_uri)\n",
        "\n",
        "\n",
        "field_list_for_organization = get_myjohndeere_api_collection_values_for_all_pages(oauth_session, organization_field_list_uri_with_count_100)\n",
        "field_list_for_organization"
      ],
      "execution_count": 0,
      "outputs": []
    },
    {
      "metadata": {
        "id": "5efwot6Ky3aS",
        "colab_type": "text"
      },
      "cell_type": "markdown",
      "source": [
        "As long as your organization has at least one field, you should see the `field` object with a variety of links. We could follow the links to retrieve the associated `client`, `farm`, and `boundary`, but it's faster to get everything in one API call. \n",
        "\n",
        "Let's make the same call as before, but use the `embed` request param to get more information."
      ]
    },
    {
      "metadata": {
        "id": "K8qipnD5zhfF",
        "colab_type": "code",
        "colab": {}
      },
      "cell_type": "code",
      "source": [
        "farm_client_activeBoundary_embed_request_param = {'embed' : 'farms,clients,activeBoundary'}\n",
        "\n",
        "field_list_for_organization_with_embed = get_myjohndeere_api_collection_values_for_all_pages(oauth_session, organization_field_list_uri_with_count_100, params = farm_client_activeBoundary_embed_request_param)\n",
        "field_list_for_organization_with_embed"
      ],
      "execution_count": 0,
      "outputs": []
    },
    {
      "metadata": {
        "id": "cj0YJCke0yVV",
        "colab_type": "text"
      },
      "cell_type": "markdown",
      "source": [
        "We strongly encourage our Connected Software Companies to use `embed` on frequently-used API requests. If you find an API that you wish had an `embed`, please let John Deere API support know."
      ]
    },
    {
      "metadata": {
        "id": "AUet9E_TNrgD",
        "colab_type": "text"
      },
      "cell_type": "markdown",
      "source": [
        "#Using Deere ETags to monitor for changes#"
      ]
    },
    {
      "metadata": {
        "id": "SYmFREBXNv-u",
        "colab_type": "text"
      },
      "cell_type": "markdown",
      "source": [
        "[Deere ETags](https://developer.deere.com/#!help&doc=.%2Fgetstarted%2FHELPdeereTags.htm&anchor=) is a custom implementation of ETags. It helps keep data in sync between your system and ours by telling you what changed since the last time you made an API call.\n"
      ]
    },
    {
      "metadata": {
        "id": "XWt9PpFlSTyj",
        "colab_type": "code",
        "colab": {}
      },
      "cell_type": "code",
      "source": [
        "def create_myjohndeere_api_header_with_deere_etag(deere_etag_value = 'nil'):\n",
        "  return {'Accept': 'application/vnd.deere.axiom.v3+json', 'x-deere-signature' : deere_etag_value}"
      ],
      "execution_count": 0,
      "outputs": []
    },
    {
      "metadata": {
        "id": "FUN_vk5sOg7a",
        "colab_type": "code",
        "colab": {}
      },
      "cell_type": "code",
      "source": [
        "deere_etag_value = 'nil'\n",
        "\n",
        "json_plus_deere_etag_headers = create_myjohndeere_api_header_with_deere_etag(deere_etag_value)\n",
        "\n",
        "field_list_response_with_deere_etag = oauth_session.get(organization_field_list_uri_with_count_100, \n",
        "                                                        params = farm_client_activeBoundary_embed_request_param,\n",
        "                                                        headers = json_plus_deere_etag_headers)\n",
        "field_list_response_with_deere_etag.json()"
      ],
      "execution_count": 0,
      "outputs": []
    },
    {
      "metadata": {
        "id": "2Xc4vWoPROIa",
        "colab_type": "text"
      },
      "cell_type": "markdown",
      "source": [
        "The response looks the same, except for the new `x-deere-signature` header. It contains a UUID that can be used next time we make this API call."
      ]
    },
    {
      "metadata": {
        "id": "j0BERBaMRFsJ",
        "colab_type": "code",
        "colab": {}
      },
      "cell_type": "code",
      "source": [
        "field_list_response_with_deere_etag.headers['x-deere-signature']"
      ],
      "execution_count": 0,
      "outputs": []
    },
    {
      "metadata": {
        "id": "3iid9QTzR0yr",
        "colab_type": "text"
      },
      "cell_type": "markdown",
      "source": [
        "We can use this UUID in future requests to see if anything has changed. Let's copy the `x-deere-signature` guid into a new request. \n\n*Extra tip:* This UUID is only valid for a single URL. For each combination of path parameters, you'll need to store a separate ETag UUID."
      ]
    },
    {
      "metadata": {
        "id": "WeXYet-ZSHNj",
        "colab_type": "code",
        "colab": {}
      },
      "cell_type": "code",
      "source": [
        "header_with_deere_etag_value = create_myjohndeere_api_header_with_deere_etag(field_list_response_with_deere_etag.headers['x-deere-signature'])"
      ],
      "execution_count": 0,
      "outputs": []
    },
    {
      "metadata": {
        "id": "Qhx-Nvr8UF5R",
        "colab_type": "code",
        "colab": {}
      },
      "cell_type": "code",
      "source": [
        "field_list_response_with_deere_etag_using_etag = oauth_session.get(organization_field_list_uri_with_count_100, \n",
        "                                                        params = farm_client_activeBoundary_embed_request_param,\n",
        "                                                        headers = header_with_deere_etag_value)\n",
        "field_list_response_with_deere_etag_using_etag"
      ],
      "execution_count": 0,
      "outputs": []
    },
    {
      "metadata": {
        "id": "jfqEI1beTeeA",
        "colab_type": "code",
        "colab": {}
      },
      "cell_type": "code",
      "source": [
        "if field_list_response_with_deere_etag_using_etag.status_code == 200:\n",
        "  #If a 200 response is seen, your own application would need to update your downloaded field list. This statement instead just updates the x-deere-signature to a new value\n",
        "  header_with_deere_etag_value = create_myjohndeere_api_header_with_deere_etag(field_list_response_with_deere_etag_using_etag.headers['x-deere-signature'])"
      ],
      "execution_count": 0,
      "outputs": []
    },
    {
      "metadata": {
        "id": "Ol4Ld3yu2B5c",
        "colab_type": "text"
      },
      "cell_type": "markdown",
      "source": [
        "#Optimizing your calls with GZip#"
      ]
    },
    {
      "metadata": {
        "id": "0w_IWYrr2WM6",
        "colab_type": "text"
      },
      "cell_type": "markdown",
      "source": [
        "You can reduce network traffic by asking the API's to compress their responses. The MyJohnDeere API's support GZip compression.\n",
        "\n",
        "Let's add an `Accept-Encoding=GZip` header and make some more API calls."
      ]
    },
    {
      "metadata": {
        "id": "p9mKzW-T8-tB",
        "colab_type": "code",
        "colab": {}
      },
      "cell_type": "code",
      "source": [
        "MYJOHNDEERE_V3_JSON_AND_GZIP_HEADERS = {'Accept': 'application/vnd.deere.axiom.v3+json', 'Content-Type': 'application/vnd.deere.axiom.v3+json', 'Accept-Encoding' : 'gzip' }\n",
        "\n",
        "organization_field_list_with_embed_responses_gzip = oauth_session.get(organization_field_list_uri_with_count_100, headers = MYJOHNDEERE_V3_JSON_AND_GZIP_HEADERS, params = farm_client_activeBoundary_embed_request_param)\n",
        "field_list_response_size_in_byte_with_gzip = len(organization_field_list_with_embed_responses_gzip.content)\n",
        "print(\"Response size of of the field list with GZip was \" + str(field_list_response_size_in_byte_with_gzip))"
      ],
      "execution_count": 0,
      "outputs": []
    },
    {
      "metadata": {
        "id": "A-7fMHio1leV",
        "colab_type": "text"
      },
      "cell_type": "markdown",
      "source": [
        "#Recommended administration features to add to your integration#"
      ]
    },
    {
      "metadata": {
        "id": "HVhPVkA-IV7M",
        "colab_type": "text"
      },
      "cell_type": "markdown",
      "source": [
        "###Using the `currentToken` API to avoid authentication errors###"
      ]
    },
    {
      "metadata": {
        "id": "To6Zpkro3asG",
        "colab_type": "text"
      },
      "cell_type": "markdown",
      "source": [
        "Unlike oAuth 2, our oAuth 1 access tokens cannot be refreshed. Access tokens for the MyJohnDeere API's last for one year, and once they expire they cannot be reused. Remind your customers to renew their tokens before the year is finished. We'll use the 'currentToken' link from the API Catalog to see when our token expires."
      ]
    },
    {
      "metadata": {
        "id": "VYg-8o333qcR",
        "colab_type": "code",
        "colab": {}
      },
      "cell_type": "code",
      "source": [
        "current_token_uri = api_catalog_response_with_clean_links['links']['currentToken']\n",
        "current_token_json_response = get_myjohndeere_api_json_response(oauth_session, current_token_uri)\n",
        "current_token_json_response"
      ],
      "execution_count": 0,
      "outputs": []
    },
    {
      "metadata": {
        "id": "2N27N311Ixru",
        "colab_type": "code",
        "colab": {}
      },
      "cell_type": "code",
      "source": [
        "print(\"Your token will expire on \" + current_token_json_response['expirationDate'])"
      ],
      "execution_count": 0,
      "outputs": []
    },
    {
      "metadata": {
        "id": "m7cM79pZI7mt",
        "colab_type": "text"
      },
      "cell_type": "markdown",
      "source": [
        "We recommend that you alert your customers within your own application when tokens are about to expire - and give them plenty of advance notice."
      ]
    },
    {
      "metadata": {
        "id": "tcoE6g9PJ9jL",
        "colab_type": "text"
      },
      "cell_type": "markdown",
      "source": [
        "###Using the `currentUser` object as a 'foreign key' into the MyJohnDeere API###"
      ]
    },
    {
      "metadata": {
        "id": "OnspczTx4OUF",
        "colab_type": "text"
      },
      "cell_type": "markdown",
      "source": [
        "Remember that user accounts in your system may be set up differently than user accounts in the John Deere system. Especially with large farming organizations, it is useful to be able to understand who a user is within John Deere Operations Center. We'll use the 'currentUser' link from the API Catalog to discover some key details about the logged in user."
      ]
    },
    {
      "metadata": {
        "id": "I7d0sjXb3xLp",
        "colab_type": "code",
        "colab": {}
      },
      "cell_type": "code",
      "source": [
        "current_user_uri = api_catalog_response_with_clean_links['links']['currentUser']\n",
        "current_user_json_response = get_myjohndeere_api_json_response(oauth_session, current_user_uri)\n",
        "current_user_json_response"
      ],
      "execution_count": 0,
      "outputs": []
    },
    {
      "metadata": {
        "id": "w1r01TfVKavI",
        "colab_type": "text"
      },
      "cell_type": "markdown",
      "source": [
        "The `currentUser` object contains a few key elements that you'll likely find useful. The `userType` attribute lets you know if the logged in user is a John Deere customer or a John Deere dealer, which you can use to give a more customized experience. The `accountName` attribute is the username of the customer within the John Deere system. Your own tooling should keep a record of this whenever you encounter errors that you plan to submit to John Deere's [API support team](mailto:APIDevSupport@JohnDeere.com). This will help the support team help you fix issues quickly."
      ]
    },
    {
      "metadata": {
        "id": "qAO8Yq6NNk6N",
        "colab_type": "text"
      },
      "cell_type": "markdown",
      "source": [
        "#Handling API errors#"
      ]
    },
    {
      "metadata": {
        "id": "Zld-5nXUNn63",
        "colab_type": "text"
      },
      "cell_type": "markdown",
      "source": [
        "###Dealing with 500 responses###"
      ]
    },
    {
      "metadata": {
        "id": "IIEjI-bBQjjc",
        "colab_type": "text"
      },
      "cell_type": "markdown",
      "source": [
        "While we target high uptime, every web API has problems sometimes. We've documented [how to handle some of the most common errors](https://developer.deere.com/#!help&doc=.%2Fgetstarted%2FHELP429.htm&anchor=).\n",
        "\n",
        "When you do encounter an error, please don't retry immediately - that makes things worse! We recommend that you use an exponential backoff loop. For this code section, we'll use [httpstat.us](https://httpstat.us/) as a demonstration tool to automatically generate 500 errors.\n\n*Extra tip:* This demo simply doubles the wait time after each failure. Another good alternative (in milliseconds) is `Thread.Sleep((int) Math.Pow(10, retryCount));`."
      ]
    },
    {
      "metadata": {
        "id": "Bywgaq_JSCOk",
        "colab_type": "code",
        "colab": {}
      },
      "cell_type": "code",
      "source": [
        "uri_that_always_generates_500_errors = \"https://httpstat.us/500\"\n",
        "oauth_session.get(uri_that_always_generates_500_errors)"
      ],
      "execution_count": 0,
      "outputs": []
    },
    {
      "metadata": {
        "id": "nytxXKxMUH2f",
        "colab_type": "text"
      },
      "cell_type": "markdown",
      "source": [
        "Now we'll add some code to retry when we encounter a 500. We will also import some libraries for dealing with time."
      ]
    },
    {
      "metadata": {
        "id": "FhQ8hn-IVdA_",
        "colab_type": "code",
        "colab": {}
      },
      "cell_type": "code",
      "source": [
        "import time\n",
        "import datetime\n",
        "\n",
        "def is_status_code_a_server_error(http_status_code):\n",
        "  return http_status_code >= 500 and http_status_code < 600\n",
        "\n",
        "def print_current_time_to_console():\n",
        "  print(\"Making a call at \" + str(datetime.datetime.now()))\n",
        "\n",
        "def call_api_with_500_retry_logic(oauth_session, uri_to_call):\n",
        "  print_current_time_to_console()\n",
        "  timer_in_seconds = 1\n",
        "  api_response = oauth_session.get(uri_to_call)\n",
        "  while(is_status_code_a_server_error(api_response.status_code) and timer_in_seconds < 30):\n",
        "    time.sleep(timer_in_seconds)\n",
        "    timer_in_seconds = timer_in_seconds * 2\n",
        "    print_current_time_to_console()\n",
        "    api_response = oauth_session.get(uri_to_call)\n",
        "  print(\"Unable to succeed in the API call. This would be a good point to log the exact API call made, the username of the caller, as well as the date\")"
      ],
      "execution_count": 0,
      "outputs": []
    },
    {
      "metadata": {
        "id": "uILQQeqCXT3M",
        "colab_type": "code",
        "colab": {}
      },
      "cell_type": "code",
      "source": [
        "call_api_with_500_retry_logic(oauth_session, uri_that_always_generates_500_errors)"
      ],
      "execution_count": 0,
      "outputs": []
    },
    {
      "metadata": {
        "id": "WeQnkgfi2TmN",
        "colab_type": "text"
      },
      "cell_type": "markdown",
      "source": [
        "###Dealing with 429 responses###"
      ]
    },
    {
      "metadata": {
        "id": "Ww15GVG72ZWm",
        "colab_type": "text"
      },
      "cell_type": "markdown",
      "source": [
        "The MyJohnDeere API has [built-in flood protection](https://developer.deere.com/#!documentation&doc=myjohndeere%2F429.htm&anchor=) that generates HTTP 429 responses. It is triggered by too many requests from a single application, or when the MyJohnDeere API server is under unusually high load.\n",
        "\n",
        "As a demonstration, we'll set up a `mock` to simulate `429` responses from the `API Catalog`.\n",
        "\n"
      ]
    },
    {
      "metadata": {
        "id": "9Z7XqyTY3bnO",
        "colab_type": "code",
        "colab": {}
      },
      "cell_type": "code",
      "source": [
        "!pip install requests_mock"
      ],
      "execution_count": 0,
      "outputs": []
    },
    {
      "metadata": {
        "id": "KFuY0OCo3UKY",
        "colab_type": "code",
        "colab": {}
      },
      "cell_type": "code",
      "source": [
        "import requests\n",
        "import requests_mock\n",
        "\n",
        "mock_api_catalog_uri = 'mock://sandboxapi.deere.com/platform/'\n",
        "\n",
        "session = requests.Session()\n",
        "adapter = requests_mock.Adapter()\n",
        "session.mount('mock', adapter)\n",
        "\n",
        "retry_after_two_seconds_header = {'Retry-After' : '2'}\n",
        "adapter.register_uri('GET', mock_api_catalog_uri, status_code = 429, headers = retry_after_two_seconds_header)"
      ],
      "execution_count": 0,
      "outputs": []
    },
    {
      "metadata": {
        "id": "1RvaWLo55Aih",
        "colab_type": "text"
      },
      "cell_type": "markdown",
      "source": [
        "With the 429 response, the MyJohnDeere API server recommendations how long to wait - in seconds - before attempting to retry. We will use that response header in order to setup our sleep timers."
      ]
    },
    {
      "metadata": {
        "id": "43wBNB7b3ivB",
        "colab_type": "code",
        "colab": {}
      },
      "cell_type": "code",
      "source": [
        "import time\n",
        "import datetime\n",
        "\n",
        "def is_status_code_429(http_status_code):\n",
        "  return http_status_code == 429\n",
        "\n",
        "def print_current_time_to_console():\n",
        "  print(\"Making a call at \" + str(datetime.datetime.now()))\n",
        "  \n",
        "def call_api_with_429_retry_logic(session, uri_to_call):\n",
        "  print_current_time_to_console()\n",
        "  attempts = 0\n",
        "  api_response = session.get(uri_to_call)\n",
        "  while(is_status_code_429(api_response.status_code) and attempts < 3):\n",
        "    time.sleep(int(api_response.headers['Retry-After']))\n",
        "    attempts = attempts + 1\n",
        "    print_current_time_to_console()\n",
        "    api_response = session.get(uri_to_call)\n",
        "  print(\"For the 429, it can still be useful to have a maximum amount of retrys before considering the API call a failure\")"
      ],
      "execution_count": 0,
      "outputs": []
    },
    {
      "metadata": {
        "id": "VMWtRo5g8cKV",
        "colab_type": "code",
        "colab": {}
      },
      "cell_type": "code",
      "source": [
        "call_api_with_429_retry_logic(session, mock_api_catalog_uri)"
      ],
      "execution_count": 0,
      "outputs": []
    },
    {
      "metadata": {
        "id": "aGkI-3be8CSO",
        "colab_type": "text"
      },
      "cell_type": "markdown",
      "source": [
        "#Selecting the right organization for a grower#"
      ]
    },
    {
      "metadata": {
        "id": "FZWsArof8ylb",
        "colab_type": "text"
      },
      "cell_type": "markdown",
      "source": [
        "For most applications connected to the MyJohnDeere API, your end user is a farmer who is unlikely to be a member of multiple organizations in Operations Center. If a user is a member of multiple organizations, you will need to select which one to use. In the second cell, make sure to change the `selected_organization_index` to an organization from the results from the first cell."
      ]
    },
    {
      "metadata": {
        "id": "aJKtEDPA71FZ",
        "colab_type": "code",
        "colab": {}
      },
      "cell_type": "code",
      "source": [
        "current_user_response = get_myjohndeere_api_json_response(oauth_session, current_user_uri)\n",
        "organizations_for_current_user_uri = current_user_response['links']['organizations']\n",
        "organizations_for_current_user_uri = default_to_count_100(organizations_for_current_user_uri)\n",
        "organizations_for_current_user = get_myjohndeere_api_collection_values_for_all_pages(oauth_session, organizations_for_current_user_uri)\n",
        "organization_index = 0\n",
        "for organization in organizations_for_current_user:\n",
        "  print(\"[\" + str(organization_index) + \"] \" + organization['name'])\n",
        "  organization_index = organization_index + 1"
      ],
      "execution_count": 0,
      "outputs": []
    },
    {
      "metadata": {
        "id": "pSjOV_Q1--BO",
        "colab_type": "code",
        "colab": {}
      },
      "cell_type": "code",
      "source": [
        "#Replace the value of selected_organization_index to one of the values listed from the cell above\n",
        "selected_organization_index = 0\n",
        "\n",
        "selected_organization = organizations_for_current_user[selected_organization_index]\n",
        "print(\"The organization chosen has a name of \\\"\" + selected_organization['name'] + \"\\\" and an id of \" + selected_organization['id'])"
      ],
      "execution_count": 0,
      "outputs": []
    },
    {
      "metadata": {
        "id": "SRI6VONnBsrs",
        "colab_type": "text"
      },
      "cell_type": "markdown",
      "source": [
        "#Selecting the right organization for a contractor or a John Deere dealer#"
      ]
    },
    {
      "metadata": {
        "id": "0y3J0SOTCO6Q",
        "colab_type": "text"
      },
      "cell_type": "markdown",
      "source": [
        "Applications that target contractors or John Deere dealers often need to manage organizations differently. It is common for a contractor or dealer to support a large number of organizations, and your application will need a way to let the user select which one to use.\n",
        "\n",
        "Note that in this case you want to keep data separated by organization. Merging data across organizations is probably not what a dealer or contractor wants."
      ]
    },
    {
      "metadata": {
        "id": "Vna2DZTcAr5V",
        "colab_type": "code",
        "colab": {}
      },
      "cell_type": "code",
      "source": [
        "api_catalog_response = get_myjohndeere_api_json_response(oauth_session, api_catalog_url)\n",
        "organizations_uri = api_catalog_response['links']['organizations']\n",
        "organizations_uri = default_to_count_100(organizations_uri)\n",
        "\n",
        "organizations_visible_to_logged_in_user = get_myjohndeere_api_collection_values_for_all_pages(oauth_session, organizations_uri)\n",
        "organization_index = 0\n",
        "for organization in organizations_visible_to_logged_in_user:\n",
        "  print(\"[\" + str(organization_index) + \"] \" + organization['name'])\n",
        "  organization_index = organization_index + 1"
      ],
      "execution_count": 0,
      "outputs": []
    },
    {
      "metadata": {
        "id": "YDK-2UorD_Iy",
        "colab_type": "code",
        "colab": {}
      },
      "cell_type": "code",
      "source": [
        "#Replace the values in the array below with the organizations you want to pick from above\n",
        "selected_organizations_array = [0, 1]\n",
        "\n",
        "selected_organizations = [organizations_visible_to_logged_in_user[i] for i in selected_organizations_array]\n",
        "print(\"The number of organizations chosen was \" + str(len(selected_organizations)))"
      ],
      "execution_count": 0,
      "outputs": []
    },
    {
      "metadata": {
        "id": "LVKuC2Li1rl1",
        "colab_type": "text"
      },
      "cell_type": "markdown",
      "source": [
        "#Getting your application to production#"
      ]
    },
    {
      "metadata": {
        "id": "OV2ajDHH5_Ga",
        "colab_type": "text"
      },
      "cell_type": "markdown",
      "source": [
        "###Application access while in Sandbox###"
      ]
    },
    {
      "metadata": {
        "id": "56SJ9cEK6CQN",
        "colab_type": "text"
      },
      "cell_type": "markdown",
      "source": [
        "Applications on developer.deere.com have two lifecycle phases. In \"Sandbox\", your application is only available to your application team. In \"Production\", real customers can use your application. This is the only major difference between the two - in both phases, your application calls the production MyJohnDeere backend."
      ]
    },
    {
      "metadata": {
        "id": "J1ryqoT-3wmO",
        "colab_type": "text"
      },
      "cell_type": "markdown",
      "source": [
        "This is a picture showing the \"Team Members\" of an application on developer.deere.com. Only \"Team\" members of a `Sandbox` application on developer.deere.com are allowed to authenticate. You can invite additional team members as needed for development and testing.\n",
        "\n",
        "![Team Section on developer.deere.com](https://github.com/JohnDeere/DevelopWithDeereNotebooks/raw/master/Best%20Practices/TeamOnDeveloperDeereCom.png)"
      ]
    },
    {
      "metadata": {
        "id": "U8CZA1H55cHm",
        "colab_type": "text"
      },
      "cell_type": "markdown",
      "source": [
        "###Getting to production###"
      ]
    },
    {
      "metadata": {
        "id": "tSdc9r8a5gPh",
        "colab_type": "text"
      },
      "cell_type": "markdown",
      "source": [
        "When your application is ready to go to production with the MyJohnDeere API, it must pass two checks before we will grant Production access."
      ]
    },
    {
      "metadata": {
        "id": "ACyW6KD97MQC",
        "colab_type": "text"
      },
      "cell_type": "markdown",
      "source": [
        "Schedule a review with John Deere's API support team. You do not need to share your source code - we just want to check our logs. ",
        "Your application should be used like a real customer would use your application. This can include initial signup, creating data, and polling the MyJohnDeere API's.\n",
        "\n",
        "If anything critical is noticed in the review, such as potential DDoS attacks or inefficient API usage, we'll make suggestions."
      ]
    },
    {
      "metadata": {
        "id": "FWerEr5v7MwF",
        "colab_type": "text"
      },
      "cell_type": "markdown",
      "source": [
        "The John Deere Business Development team needs a signed API usage agreement. This agreement goes over all of the APIs required, the usage limits for those APIs, and allowed behaviors."
      ]
    },
    {
      "metadata": {
        "id": "79v4ET3p7fG8",
        "colab_type": "text"
      },
      "cell_type": "markdown",
      "source": [
        "Once both steps are complete, production access will be granted. At that time, change the base URI you use to call MyJohnDeere from 'https://sandboxapi.deere.com/platform/' to 'https://partnerapi.deere.com/platform/'."
      ]
    },
    {
      "metadata": {
        "id": "Sars-cDKNkml",
        "colab_type": "code",
        "colab": {}
      },
      "cell_type": "code",
      "source": [
        ""
      ],
      "execution_count": 0,
      "outputs": []
    }
  ]
}

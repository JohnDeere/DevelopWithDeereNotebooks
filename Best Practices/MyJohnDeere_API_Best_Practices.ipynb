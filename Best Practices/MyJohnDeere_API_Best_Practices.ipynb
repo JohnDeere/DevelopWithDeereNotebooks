{
  "nbformat": 4,
  "nbformat_minor": 0,
  "metadata": {
    "colab": {
      "name": "MyJohnDeere_API_Best_Practices.ipynb",
      "provenance": [],
      "collapsed_sections": []
    },
    "kernelspec": {
      "name": "python3",
      "display_name": "Python 3"
    }
  },
  "cells": [
    {
      "cell_type": "markdown",
      "metadata": {
        "id": "6YgVGcSU2nOC",
        "colab_type": "text"
      },
      "source": [
        "# MyJohnDeere API Best Practices"
      ]
    },
    {
      "cell_type": "markdown",
      "metadata": {
        "id": "pk6N-wuO2u0x",
        "colab_type": "text"
      },
      "source": [
        "This notebook contains hints, best practices, and errata to help use the MyJohnDeere API's."
      ]
    },
    {
      "cell_type": "markdown",
      "metadata": {
        "id": "2lfqNzsU2qn6",
        "colab_type": "text"
      },
      "source": [
        "*Note - This notebook requires that you be logged into Google.*\n",
        "\n",
        "Copyright (c) 2019 Deere & Company\n",
        " \n",
        "This software may be modified and distributed under the terms\n",
        "of the MIT license.  See the LICENSE file for details."
      ]
    },
    {
      "cell_type": "markdown",
      "metadata": {
        "id": "nr4M2Mbtg_8B",
        "colab_type": "text"
      },
      "source": [
        "# Create MyJohnDeere API OAuth2 session"
      ]
    },
    {
      "cell_type": "markdown",
      "metadata": {
        "id": "Eu8KcDi08abW",
        "colab_type": "text"
      },
      "source": [
        "If you haven't already, make sure you have gone through the [MyJohnDeere Onboarding](https://colab.research.google.com/github/JohnDeere/DevelopWithDeereNotebooks/blob/master/Onboarding/myjohndeere-api-onboarding.ipynb) notebook to better understand how to setup an OAuth2 session.  The code below simply re-iterates the steps in that notebook to setup an OAuth2 session.  Here we go through those steps again to get a valid session to use for the remainder of this notebook. "
      ]
    },
    {
      "cell_type": "markdown",
      "metadata": {
        "id": "e8-P8BG09cr-",
        "colab_type": "text"
      },
      "source": [
        "Import some utility libraries to assist with seting up and managing an OAuth session. You can find similar libraries for the programming language of your choice"
      ]
    },
    {
      "cell_type": "code",
      "metadata": {
        "id": "HFjOaC2u9U0C",
        "colab_type": "code",
        "colab": {}
      },
      "source": [
        "from requests_oauthlib import OAuth2Session\n",
        "import requests\n",
        "import json"
      ],
      "execution_count": 0,
      "outputs": []
    },
    {
      "cell_type": "markdown",
      "metadata": {
        "id": "vG8MtF3x9hgw",
        "colab_type": "text"
      },
      "source": [
        "Specify your client ID, client secret, and client redirect URI below"
      ]
    },
    {
      "cell_type": "code",
      "metadata": {
        "id": "fvsFxGB5g0Vd",
        "colab_type": "code",
        "colab": {}
      },
      "source": [
        "CLIENT_ID = 'place_client_id_here'\n",
        "CLIENT_SECRET = 'place_client_secret_here'\n",
        "CLIENT_REDIRECT_URI = 'place_client_redirect_uri_here'\n",
        "\n",
        "# Leave the line below as-is. This line of code verifies that you've modified the CLIENT_ID, CLIENT_SECRET, CLIENT_REDIRECT_URI to the values above so that your application can complete OAuth\"\n",
        "assert(CLIENT_ID != 'place_client_key_here' and CLIENT_SECRET != 'place_client_secret_here' and CLIENT_REDIRECT_URI != 'place_client_redirect_uri_here'), \"You need to update your CLIENT_ID, CLIENT_SECRET, or CLIENT_REDIRECT_URI in this cell\""
      ],
      "execution_count": 0,
      "outputs": []
    },
    {
      "cell_type": "markdown",
      "metadata": {
        "id": "CdHshd9F9yZ3",
        "colab_type": "text"
      },
      "source": [
        "Query the well known OAuth URL to determine the OAuth authorization URL, token grant URL, and available scopes."
      ]
    },
    {
      "cell_type": "code",
      "metadata": {
        "id": "Rmk-7u1YhrZF",
        "colab_type": "code",
        "colab": {}
      },
      "source": [
        "WELL_KNOWN_URL = 'https://signin.johndeere.com/oauth2/aus78tnlaysMraFhC1t7/.well-known/oauth-authorization-server'\n",
        "\n",
        "# Query the ./well-known OAuth URL and parse out the authorization URL, the token grant URL, and the available scopes\n",
        "well_known_response = requests.get(WELL_KNOWN_URL)\n",
        "well_known_info = json.loads(well_known_response.text)\n",
        "\n",
        "AUTHORIZATION_URL = well_known_info['authorization_endpoint']\n",
        "TOKEN_GRANT_URL = well_known_info['token_endpoint']\n",
        "AVAILABLE_SCOPES = str(' ').join(well_known_info['scopes_supported'])\n",
        "\n",
        "print('Well Known Authorization URL - ' + AUTHORIZATION_URL)\n",
        "print('Well Known Token Grant URL - ' + TOKEN_GRANT_URL)\n",
        "print('Available Scopes - ' + AVAILABLE_SCOPES)"
      ],
      "execution_count": 0,
      "outputs": []
    },
    {
      "cell_type": "markdown",
      "metadata": {
        "id": "86zOzNmA9-rI",
        "colab_type": "text"
      },
      "source": [
        "Request an authorization code"
      ]
    },
    {
      "cell_type": "code",
      "metadata": {
        "id": "b7C2j3d799QC",
        "colab_type": "code",
        "colab": {}
      },
      "source": [
        "SCOPES_TO_REQUEST = {'offline_access', 'ag1', 'eq1', 'files'}\n",
        "STATE = \"Some Unique Identifier\"\n",
        "oauth2_session = OAuth2Session(CLIENT_ID,  redirect_uri=CLIENT_REDIRECT_URI, scope=SCOPES_TO_REQUEST)\n",
        "\n",
        "authorization_request, state = oauth2_session.authorization_url(AUTHORIZATION_URL, STATE)\n",
        "print(\"Click on the following link to present the user with sign in form where they authenticate and approve access to your application.\")\n",
        "print(authorization_request) "
      ],
      "execution_count": 0,
      "outputs": []
    },
    {
      "cell_type": "markdown",
      "metadata": {
        "id": "RKvFjX8n-JlW",
        "colab_type": "text"
      },
      "source": [
        "After the user authenticates and approves accces, copy the authorization code from the redirect URL and paste it in the next code section\")\n",
        "![Verifier Screen](https://github.com/hutch4cy/DevelopWithDeereNotebooks/raw/master/Onboarding/OAuth2Code.jpg)"
      ]
    },
    {
      "cell_type": "markdown",
      "metadata": {
        "id": "Dw56-WfL-p33",
        "colab_type": "text"
      },
      "source": [
        "Request an access token"
      ]
    },
    {
      "cell_type": "code",
      "metadata": {
        "id": "b6UdOu3Liv_V",
        "colab_type": "code",
        "colab": {}
      },
      "source": [
        "# Update the authorization code here\n",
        "AUTHORIZATION_CODE = 'place_authorization_code_here'\n",
        "\n",
        "# Leave the line below as-is. This is to make sure that you have update the AUTHORIZATION_CODE\n",
        "assert(AUTHORIZATION_CODE != 'place_authorization_code_here'), 'The AUTHORIZATION_CODE in this cell must be replaced by the authorization_code that you recieved'\n",
        "\n",
        "# Now that we have an authorization code, lets fetch an access and refresh token\n",
        "token_response = oauth2_session.fetch_token(TOKEN_GRANT_URL, code=AUTHORIZATION_CODE, client_secret=CLIENT_SECRET)\n",
        "access_token = token_response['access_token']\n",
        "refresh_token = token_response['refresh_token']\n",
        "\n",
        "# Also take note that the access token expiration time is returned.  When the access token expires, \n",
        "# you will want to use the refresh token to request a new access token (described later in this notebook)\n",
        "access_token_expiration = token_response['expires_in']\n",
        "\n",
        "print(\"Access Token: \" + access_token)\n",
        "print(\"Refresh Token: \" + refresh_token)\n",
        "print(\"Hours Token Is Valid: \" + str(int(access_token_expiration/60/60)))"
      ],
      "execution_count": 0,
      "outputs": []
    },
    {
      "cell_type": "markdown",
      "metadata": {
        "id": "cGKW7xzv-WQk",
        "colab_type": "text"
      },
      "source": [
        "Call the MyJohnDeere API Catalog to verify the OAuth session"
      ]
    },
    {
      "cell_type": "code",
      "metadata": {
        "id": "wrzegWj8-W1E",
        "colab_type": "code",
        "colab": {}
      },
      "source": [
        "MYJOHNDEERE_V3_JSON_HEADERS = { 'Accept': 'application/vnd.deere.axiom.v3+json',\n",
        "                                'Content-Type': 'application/vnd.deere.axiom.v3+json'}\n",
        "\n",
        "# If your app happens to be already approved for production, then use the partnerapi.deere.com, otherwise stick with sandboxapi.deere.com\n",
        "API_CATALOG_URI = 'https://sandboxapi.deere.com/platform/'\n",
        "#API_CATALOG_URI = 'https://partnerapi.deere.com/platform/'\n",
        "\n",
        "api_catalog_response = oauth2_session.get(API_CATALOG_URI, headers=MYJOHNDEERE_V3_JSON_HEADERS) \n",
        "\n",
        "print(\"Request returned - \" + str(api_catalog_response.status_code))\n",
        "assert(200 == api_catalog_response.status_code)"
      ],
      "execution_count": 0,
      "outputs": []
    },
    {
      "cell_type": "markdown",
      "metadata": {
        "id": "YBxPMx9XjQQM",
        "colab_type": "text"
      },
      "source": [
        "#Using `links` within the MyJohnDeere API#"
      ]
    },
    {
      "cell_type": "markdown",
      "metadata": {
        "id": "QU1CJqUS0rCU",
        "colab_type": "text"
      },
      "source": [
        "The MyJohnDeere API uses [HATEOAS](https://en.wikipedia.org/wiki/HATEOAS) links. Now that we've called the `API Catalog` lets explore the catalog by following the links."
      ]
    },
    {
      "cell_type": "markdown",
      "metadata": {
        "id": "CEVz2jB7QISb",
        "colab_type": "text"
      },
      "source": [
        "Adding a helper method can make links easier to use. The following functions convert from the JSON link object into a python dictionary. Now the API Catalog is a little easier to work with."
      ]
    },
    {
      "cell_type": "code",
      "metadata": {
        "id": "AMnebzBXi-zk",
        "colab_type": "code",
        "colab": {}
      },
      "source": [
        "def convert_links_array_to_dictionary(links_a):\n",
        "    link_dict = dict()\n",
        "    for link_o in links_a:\n",
        "        key = link_o['rel']\n",
        "        value = link_o['uri']\n",
        "        link_dict[key] = value\n",
        "    return link_dict\n",
        "api_catalog_links_as_dictionary = convert_links_array_to_dictionary(api_catalog_response.json()['links'])\n",
        "api_catalog_links_as_dictionary\n",
        "\n",
        "def replace_links_as_object_array_with_links_as_dictionary(object_with_links_to_convert):\n",
        "  object_with_links_converted = object_with_links_to_convert\n",
        "  object_with_links_converted['links'] = convert_links_array_to_dictionary(object_with_links_to_convert['links'])\n",
        "  return object_with_links_converted\n",
        "\n",
        "api_catalog_with_clean_links = replace_links_as_object_array_with_links_as_dictionary(api_catalog_response.json())\n",
        "api_catalog_with_clean_links"
      ],
      "execution_count": 0,
      "outputs": []
    },
    {
      "cell_type": "markdown",
      "metadata": {
        "id": "9Wy5lIQwgyLB",
        "colab_type": "text"
      },
      "source": [
        "That looks easier to work with. The `rel` has been converted to an attribute and the `uri` is now the value. Let us take it a step farther and modify the object itself to make using the responses themselves a bit easier."
      ]
    },
    {
      "cell_type": "markdown",
      "metadata": {
        "id": "sKIkIIZhikol",
        "colab_type": "text"
      },
      "source": [
        "When calling the MyJohnDeere API for resources, you can control which links can appear in the response. This is done via the `showLinks` request param, where the values act as a filter to on the returned links. Let's look at the `API Catalog` again, but with fewer links.\n",
        "\n",
        "*Extra tip:* Not every link will be present; links only appear for API endpoints that you have permission to use. If your user context changes or you switch organizations, the available links may change."
      ]
    },
    {
      "cell_type": "code",
      "metadata": {
        "id": "kJ1k7TbqmXls",
        "colab_type": "code",
        "colab": {}
      },
      "source": [
        "api_catalog_showLinks_request_param = {'showLinks': 'currentToken,currentUser,organizations'}\n",
        "\n",
        "api_catalog_response_with_request_param = oauth2_session.get(API_CATALOG_URI, headers = MYJOHNDEERE_V3_JSON_HEADERS, params = api_catalog_showLinks_request_param)\n",
        "api_catalog_response_with_request_param.json()"
      ],
      "execution_count": 0,
      "outputs": []
    },
    {
      "cell_type": "markdown",
      "metadata": {
        "id": "hhcozknjuKFd",
        "colab_type": "text"
      },
      "source": [
        "Using the `showLinks` request parameter is useful once you know which links your application needs. Fewer links will result in faster API responses.\n",
        "\n",
        "Now lets chain our functions together to get just the links we want."
      ]
    },
    {
      "cell_type": "code",
      "metadata": {
        "id": "vDsObp0b4jxv",
        "colab_type": "code",
        "colab": {}
      },
      "source": [
        "def create_show_links_request_param(links_to_show_comma_separated = None):\n",
        "  return {'showLinks' : links_to_show_comma_separated}\n",
        "\n",
        "def get_myjohndeere_api_json_response(oauth_session, myjohndeere_uri, headers = MYJOHNDEERE_V3_JSON_HEADERS, params = None):\n",
        "  json_response = oauth2_session.get(myjohndeere_uri, headers = headers, params = params).json()\n",
        "  return replace_links_as_object_array_with_links_as_dictionary(json_response)\n",
        "\n",
        "api_catalog_response_with_clean_links = get_myjohndeere_api_json_response(oauth2_session, myjohndeere_uri = API_CATALOG_URI, params = create_show_links_request_param('currentToken,currentUser,organizations'))\n",
        "api_catalog_response_with_clean_links"
      ],
      "execution_count": 0,
      "outputs": []
    },
    {
      "cell_type": "markdown",
      "metadata": {
        "id": "GzWwEoJ103Jr",
        "colab_type": "text"
      },
      "source": [
        "Now that we can manage links, try making additional API calls by following the links. Let's follow the '`currentUser`' link to see more information about the currently logged in user."
      ]
    },
    {
      "cell_type": "code",
      "metadata": {
        "id": "czehqgpO1EGe",
        "colab_type": "code",
        "colab": {}
      },
      "source": [
        "current_user_link = api_catalog_response_with_clean_links['links']['currentUser']\n",
        "current_user_response = get_myjohndeere_api_json_response(oauth2_session, myjohndeere_uri = current_user_link)\n",
        "current_user_response"
      ],
      "execution_count": 0,
      "outputs": []
    },
    {
      "cell_type": "markdown",
      "metadata": {
        "id": "tfJns6TM67zH",
        "colab_type": "text"
      },
      "source": [
        "#Working with the `Collection` object : counts, nextPage links, and combining results#"
      ]
    },
    {
      "cell_type": "markdown",
      "metadata": {
        "id": "v91BZTmV7IDl",
        "colab_type": "text"
      },
      "source": [
        "Many of the MyJohnDeere API's return collections of objects, as compared to the single object responses we've seen with the `API Catalog` and `currentUser` endpoints. These collections are wrapped in a JSON object that contains metadata to support pagination. You can see an example by following the '`organizations`' link from the `currentUser`"
      ]
    },
    {
      "cell_type": "code",
      "metadata": {
        "id": "-Sv-9GTRyaoe",
        "colab_type": "code",
        "colab": {}
      },
      "source": [
        "organizations_for_current_user_link = current_user_response['links']['organizations']\n",
        "get_myjohndeere_api_json_response(oauth2_session, myjohndeere_uri = organizations_for_current_user_link)"
      ],
      "execution_count": 0,
      "outputs": []
    },
    {
      "cell_type": "markdown",
      "metadata": {
        "id": "3hhsSopZ1iTw",
        "colab_type": "text"
      },
      "source": [
        "The collection wrapper contains links for '`self`', '`nextPage`', and '`previousPage`'. There is also a `total` attribute that represents how many objects exist within the collection across all pages, and a `values` attribute that contains the actual collection of objects. \n"
      ]
    },
    {
      "cell_type": "code",
      "metadata": {
        "id": "Fea8lF9m6KFM",
        "colab_type": "code",
        "colab": {}
      },
      "source": [
        "def get_myjohndeere_api_collection_json_response(oauth_session, myjohndeere_uri, headers = MYJOHNDEERE_V3_JSON_HEADERS, params = None):\n",
        "  collection_json_response = get_myjohndeere_api_json_response(oauth_session, myjohndeere_uri, headers, params)\n",
        "  values_from_collection = collection_json_response['values']\n",
        "  values_to_add_back_to_collection = []\n",
        "  for object in values_from_collection:\n",
        "    values_to_add_back_to_collection.append(replace_links_as_object_array_with_links_as_dictionary(object))\n",
        "  collection_json_response['values'] = values_to_add_back_to_collection\n",
        "  return collection_json_response"
      ],
      "execution_count": 0,
      "outputs": []
    },
    {
      "cell_type": "code",
      "metadata": {
        "id": "bcXYCP-g7OdF",
        "colab_type": "code",
        "colab": {}
      },
      "source": [
        "organizations_for_current_user_link = current_user_response['links']['organizations']\n",
        "get_myjohndeere_api_collection_json_response(oauth2_session, myjohndeere_uri = organizations_for_current_user_link)"
      ],
      "execution_count": 0,
      "outputs": []
    },
    {
      "cell_type": "markdown",
      "metadata": {
        "id": "I7fvRu-67Zkh",
        "colab_type": "text"
      },
      "source": [
        "Now that we have simplified the JSON that we're working with, we will next handle pagination. The MyJohnDeere API uses [pagination](https://developer.deere.com/#!help&doc=.%2Fgetstarted%2FPaginationGuide.htm&anchor=) in order to reduce the load per API request. \n",
        "\n",
        "In order to control pagination, MyJohnDeere API's use matrix parameters `start` and `count`. To demonstrate, set the `count` to one."
      ]
    },
    {
      "cell_type": "code",
      "metadata": {
        "id": "09hHciaF_Zb9",
        "colab_type": "code",
        "colab": {}
      },
      "source": [
        "organizations_for_current_user_link = current_user_response['links']['organizations']\n",
        "organizations_for_current_user_link_with_count_of_1 = organizations_for_current_user_link + ';count=1'\n",
        "get_myjohndeere_api_collection_json_response(oauth2_session, myjohndeere_uri = organizations_for_current_user_link_with_count_of_1)"
      ],
      "execution_count": 0,
      "outputs": []
    },
    {
      "cell_type": "markdown",
      "metadata": {
        "id": "HAC45XiBAe73",
        "colab_type": "text"
      },
      "source": [
        "Assuming the current user is a member of two organizations, we now see a `nextPage` link which has `start=1` and `count=1`. Let's enhance our last method to follow the `nextPage` link."
      ]
    },
    {
      "cell_type": "code",
      "metadata": {
        "id": "FCji14f0AdZs",
        "colab_type": "code",
        "colab": {}
      },
      "source": [
        "def get_myjohndeere_api_collection_values_for_all_pages(oauth_session, myjohndeere_uri, headers = MYJOHNDEERE_V3_JSON_HEADERS, params = None):\n",
        "  collection_response = get_myjohndeere_api_collection_json_response(oauth_session, myjohndeere_uri, headers, params)\n",
        "  collection_links = collection_response['links']\n",
        "  while 'nextPage' in collection_links:\n",
        "    next_page_response = get_myjohndeere_api_collection_json_response(oauth_session, collection_links['nextPage'], headers, params)\n",
        "    collection_links = next_page_response['links']\n",
        "    collection_response['values'].extend(next_page_response['values'])\n",
        "  return collection_response['values']"
      ],
      "execution_count": 0,
      "outputs": []
    },
    {
      "cell_type": "code",
      "metadata": {
        "id": "Y1GjLH7_CoFM",
        "colab_type": "code",
        "colab": {}
      },
      "source": [
        "organizations_for_current_user_link = current_user_response['links']['organizations']\n",
        "organizations_for_current_user_link_with_count_of_1 = organizations_for_current_user_link + ';count=1'\n",
        "get_myjohndeere_api_collection_values_for_all_pages(oauth2_session, myjohndeere_uri = organizations_for_current_user_link_with_count_of_1)"
      ],
      "execution_count": 0,
      "outputs": []
    },
    {
      "cell_type": "markdown",
      "metadata": {
        "id": "hCyJBlauDgGz",
        "colab_type": "text"
      },
      "source": [
        "To be more realistic, add another helper function to set the pagination count to 100. This is the maximum page size."
      ]
    },
    {
      "cell_type": "code",
      "metadata": {
        "id": "MQlDr75skMG8",
        "colab_type": "code",
        "colab": {}
      },
      "source": [
        "def default_to_count_100(followable_link) :\n",
        "  return followable_link + \";count=100\""
      ],
      "execution_count": 0,
      "outputs": []
    },
    {
      "cell_type": "markdown",
      "metadata": {
        "id": "Jbu4DKruEww3",
        "colab_type": "text"
      },
      "source": [
        "To bring all of this together, get the organization list with a page size of 100. Add a `showLinks` request param to limit links to just the `machines`, `files`, and `fields` links. \n",
        "\n",
        "*Extra tip: * If you don't want pagination, you can disable it by adding a header named `No_Paging` with value of `true`. For some endpoints you can also disable links by adding a query param `showLinks=none`."
      ]
    },
    {
      "cell_type": "code",
      "metadata": {
        "id": "gWLzWjSZFISd",
        "colab_type": "code",
        "colab": {}
      },
      "source": [
        "show_links_request_param_for_organization_list = {'showLinks' : 'machines,files,fields'}\n",
        "\n",
        "organizations_for_current_user_link = current_user_response['links']['organizations']\n",
        "organizations_for_current_user_link_with_page_size_of_100 = default_to_count_100(organizations_for_current_user_link)\n",
        "get_myjohndeere_api_collection_values_for_all_pages(oauth2_session, organizations_for_current_user_link_with_page_size_of_100, params = show_links_request_param_for_organization_list)"
      ],
      "execution_count": 0,
      "outputs": []
    },
    {
      "cell_type": "markdown",
      "metadata": {
        "id": "ArGDFKULtHcJ",
        "colab_type": "text"
      },
      "source": [
        "#Using `embed` to optimize data retrieval#"
      ]
    },
    {
      "cell_type": "markdown",
      "metadata": {
        "id": "Oi5-pgcEtSni",
        "colab_type": "text"
      },
      "source": [
        "To replace multiple API calls to retrieve several related objects, the MyJohnDeere API's support the concept of an '`embed`'. Instead of retrieving a list of fields and then making a series of API calls to get the associated `client` and `farm` for each field, you can request that clients and farms are embedded in the initial fields call. Then each `field` in the fields list will have pre-populated `client` and `farm` attributes.\n",
        "\n",
        "Let's start by finding an organization that has a `fields` link."
      ]
    },
    {
      "cell_type": "code",
      "metadata": {
        "id": "zWcq79aTwFLD",
        "colab_type": "code",
        "colab": {}
      },
      "source": [
        "show_field_links_request_param_for_organization_list = {'showLinks' : 'fields'}\n",
        "\n",
        "organization_list_for_logged_in_user = get_myjohndeere_api_collection_values_for_all_pages(oauth2_session, organizations_for_current_user_link_with_page_size_of_100, params = show_field_links_request_param_for_organization_list)\n",
        "organization_which_has_fields_link = None\n",
        "for organization in organization_list_for_logged_in_user:\n",
        "  if 'fields' in organization['links']:\n",
        "    organization_which_has_fields_link = organization\n",
        "    break\n",
        "\n",
        "assert(organization_which_has_fields_link != None), \"The logged in user is not a staff member of any organization in which they can see fields\"\n",
        "organization_which_has_fields_link"
      ],
      "execution_count": 0,
      "outputs": []
    },
    {
      "cell_type": "markdown",
      "metadata": {
        "id": "meCjyKSYx5NJ",
        "colab_type": "text"
      },
      "source": [
        "Let's follow the `fields` link to see which fields are available to our user within this organization."
      ]
    },
    {
      "cell_type": "code",
      "metadata": {
        "id": "b04ZJSsEyNOR",
        "colab_type": "code",
        "colab": {}
      },
      "source": [
        "organization_field_list_uri = organization_which_has_fields_link['links']['fields']\n",
        "organization_field_list_uri_with_count_100 = default_to_count_100(organization_field_list_uri)\n",
        "\n",
        "\n",
        "field_list_for_organization = get_myjohndeere_api_collection_values_for_all_pages(oauth2_session, organization_field_list_uri_with_count_100)\n",
        "field_list_for_organization"
      ],
      "execution_count": 0,
      "outputs": []
    },
    {
      "cell_type": "markdown",
      "metadata": {
        "id": "5efwot6Ky3aS",
        "colab_type": "text"
      },
      "source": [
        "As long as your organization has at least one field, you should see the `field` object with a variety of links. We could follow the links to retrieve the associated `client`, `farm`, and `boundary`, but it's faster to get everything in one API call. \n",
        "\n",
        "Let's make the same call as before, but use the `embed` request param to get more information."
      ]
    },
    {
      "cell_type": "code",
      "metadata": {
        "id": "K8qipnD5zhfF",
        "colab_type": "code",
        "colab": {}
      },
      "source": [
        "farm_client_activeBoundary_embed_request_param = {'embed' : 'farms,clients,activeBoundary'}\n",
        "\n",
        "field_list_for_organization_with_embed = get_myjohndeere_api_collection_values_for_all_pages(oauth2_session, organization_field_list_uri_with_count_100, params = farm_client_activeBoundary_embed_request_param)\n",
        "field_list_for_organization_with_embed"
      ],
      "execution_count": 0,
      "outputs": []
    },
    {
      "cell_type": "markdown",
      "metadata": {
        "id": "cj0YJCke0yVV",
        "colab_type": "text"
      },
      "source": [
        "We strongly encourage our Connected Software Companies to use `embed` on frequently-used API requests. If you find an API that you wish had an `embed`, please let John Deere API support know."
      ]
    },
    {
      "cell_type": "markdown",
      "metadata": {
        "id": "AUet9E_TNrgD",
        "colab_type": "text"
      },
      "source": [
        "#Using Deere ETags to monitor for changes#"
      ]
    },
    {
      "cell_type": "markdown",
      "metadata": {
        "id": "SYmFREBXNv-u",
        "colab_type": "text"
      },
      "source": [
        "[Deere ETags](https://developer.deere.com/#!help&doc=.%2Fgetstarted%2FHELPdeereTags.htm&anchor=) is a custom implementation of ETags. It helps keep data in sync between your system and ours by telling you what changed since the last time you made an API call.\n"
      ]
    },
    {
      "cell_type": "code",
      "metadata": {
        "id": "XWt9PpFlSTyj",
        "colab_type": "code",
        "colab": {}
      },
      "source": [
        "def create_myjohndeere_api_header_with_deere_etag(deere_etag_value = 'nil'):\n",
        "  return {'Accept': 'application/vnd.deere.axiom.v3+json', 'x-deere-signature' : deere_etag_value}"
      ],
      "execution_count": 0,
      "outputs": []
    },
    {
      "cell_type": "code",
      "metadata": {
        "id": "FUN_vk5sOg7a",
        "colab_type": "code",
        "colab": {}
      },
      "source": [
        "deere_etag_value = 'nil'\n",
        "\n",
        "json_plus_deere_etag_headers = create_myjohndeere_api_header_with_deere_etag(deere_etag_value)\n",
        "\n",
        "field_list_response_with_deere_etag = oauth2_session.get(organization_field_list_uri_with_count_100, \n",
        "                                                        params = farm_client_activeBoundary_embed_request_param,\n",
        "                                                        headers = json_plus_deere_etag_headers)\n",
        "field_list_response_with_deere_etag.json()"
      ],
      "execution_count": 0,
      "outputs": []
    },
    {
      "cell_type": "markdown",
      "metadata": {
        "id": "2Xc4vWoPROIa",
        "colab_type": "text"
      },
      "source": [
        "The response looks the same, except for the new `x-deere-signature` header. It contains a UUID that can be used next time we make this API call."
      ]
    },
    {
      "cell_type": "code",
      "metadata": {
        "id": "j0BERBaMRFsJ",
        "colab_type": "code",
        "colab": {}
      },
      "source": [
        "field_list_response_with_deere_etag.headers['x-deere-signature']"
      ],
      "execution_count": 0,
      "outputs": []
    },
    {
      "cell_type": "markdown",
      "metadata": {
        "id": "3iid9QTzR0yr",
        "colab_type": "text"
      },
      "source": [
        "We can use this UUID in future requests to see if anything has changed. Let's copy the `x-deere-signature` guid into a new request. \n",
        "\n",
        "*Extra tip:* This UUID is only valid for a single URL. For each combination of path parameters, you'll need to store a separate ETag UUID."
      ]
    },
    {
      "cell_type": "code",
      "metadata": {
        "id": "WeXYet-ZSHNj",
        "colab_type": "code",
        "colab": {}
      },
      "source": [
        "header_with_deere_etag_value = create_myjohndeere_api_header_with_deere_etag(field_list_response_with_deere_etag.headers['x-deere-signature'])"
      ],
      "execution_count": 0,
      "outputs": []
    },
    {
      "cell_type": "code",
      "metadata": {
        "id": "Qhx-Nvr8UF5R",
        "colab_type": "code",
        "colab": {}
      },
      "source": [
        "field_list_response_with_deere_etag_using_etag = oauth2_session.get(organization_field_list_uri_with_count_100, \n",
        "                                                        params = farm_client_activeBoundary_embed_request_param,\n",
        "                                                        headers = header_with_deere_etag_value)\n",
        "field_list_response_with_deere_etag_using_etag"
      ],
      "execution_count": 0,
      "outputs": []
    },
    {
      "cell_type": "code",
      "metadata": {
        "id": "jfqEI1beTeeA",
        "colab_type": "code",
        "colab": {}
      },
      "source": [
        "if field_list_response_with_deere_etag_using_etag.status_code == 200:\n",
        "  #If a 200 response is seen, your own application would need to update your downloaded field list. This statement instead just updates the x-deere-signature to a new value\n",
        "  header_with_deere_etag_value = create_myjohndeere_api_header_with_deere_etag(field_list_response_with_deere_etag_using_etag.headers['x-deere-signature'])"
      ],
      "execution_count": 0,
      "outputs": []
    },
    {
      "cell_type": "markdown",
      "metadata": {
        "id": "Ol4Ld3yu2B5c",
        "colab_type": "text"
      },
      "source": [
        "#Optimizing your calls with GZip#"
      ]
    },
    {
      "cell_type": "markdown",
      "metadata": {
        "id": "0w_IWYrr2WM6",
        "colab_type": "text"
      },
      "source": [
        "You can reduce network traffic by asking the API's to compress their responses. The MyJohnDeere API's support GZip compression.\n",
        "\n",
        "Let's add an `Accept-Encoding=GZip` header and make some more API calls."
      ]
    },
    {
      "cell_type": "code",
      "metadata": {
        "id": "p9mKzW-T8-tB",
        "colab_type": "code",
        "colab": {}
      },
      "source": [
        "MYJOHNDEERE_V3_JSON_AND_GZIP_HEADERS = {'Accept': 'application/vnd.deere.axiom.v3+json', 'Content-Type': 'application/vnd.deere.axiom.v3+json', 'Accept-Encoding' : 'gzip' }\n",
        "\n",
        "organization_field_list_with_embed_responses_gzip = oauth2_session.get(organization_field_list_uri_with_count_100, headers = MYJOHNDEERE_V3_JSON_AND_GZIP_HEADERS, params = farm_client_activeBoundary_embed_request_param)\n",
        "field_list_response_size_in_byte_with_gzip = len(organization_field_list_with_embed_responses_gzip.content)\n",
        "print(\"Response size of of the field list with GZip was \" + str(field_list_response_size_in_byte_with_gzip))"
      ],
      "execution_count": 0,
      "outputs": []
    },
    {
      "cell_type": "markdown",
      "metadata": {
        "id": "A-7fMHio1leV",
        "colab_type": "text"
      },
      "source": [
        "#Recommended administration features to add to your integration#"
      ]
    },
    {
      "cell_type": "markdown",
      "metadata": {
        "id": "tcoE6g9PJ9jL",
        "colab_type": "text"
      },
      "source": [
        "###Using the `currentUser` object as a 'foreign key' into the MyJohnDeere API###"
      ]
    },
    {
      "cell_type": "markdown",
      "metadata": {
        "id": "OnspczTx4OUF",
        "colab_type": "text"
      },
      "source": [
        "Remember that user accounts in your system may be set up differently than user accounts in the John Deere system. Especially with large farming organizations, it is useful to be able to understand who a user is within John Deere Operations Center. We'll use the 'currentUser' link from the API Catalog to discover some key details about the logged in user."
      ]
    },
    {
      "cell_type": "code",
      "metadata": {
        "id": "I7d0sjXb3xLp",
        "colab_type": "code",
        "colab": {}
      },
      "source": [
        "current_user_uri = api_catalog_response_with_clean_links['links']['currentUser']\n",
        "current_user_json_response = get_myjohndeere_api_json_response(oauth2_session, current_user_uri)\n",
        "current_user_json_response"
      ],
      "execution_count": 0,
      "outputs": []
    },
    {
      "cell_type": "markdown",
      "metadata": {
        "id": "w1r01TfVKavI",
        "colab_type": "text"
      },
      "source": [
        "The `currentUser` object contains a few key elements that you'll likely find useful. The `userType` attribute lets you know if the logged in user is a John Deere customer or a John Deere dealer, which you can use to give a more customized experience. The `accountName` attribute is the username of the customer within the John Deere system. Your own tooling should keep a record of this whenever you encounter errors that you plan to submit to John Deere's [API support team](mailto:APIDevSupport@JohnDeere.com). This will help the support team help you fix issues quickly."
      ]
    },
    {
      "cell_type": "markdown",
      "metadata": {
        "id": "qAO8Yq6NNk6N",
        "colab_type": "text"
      },
      "source": [
        "#Handling API errors#"
      ]
    },
    {
      "cell_type": "markdown",
      "metadata": {
        "id": "Zld-5nXUNn63",
        "colab_type": "text"
      },
      "source": [
        "###Dealing with 500 responses###"
      ]
    },
    {
      "cell_type": "markdown",
      "metadata": {
        "id": "IIEjI-bBQjjc",
        "colab_type": "text"
      },
      "source": [
        "While we target high uptime, every web API has problems sometimes. We've documented [how to handle some of the most common errors](https://developer.deere.com/#!help&doc=.%2Fgetstarted%2FHELP429.htm&anchor=).\n",
        "\n",
        "When you do encounter an error, please don't retry immediately - that makes things worse! We recommend that you use an exponential backoff loop. For this code section, we'll use [httpstat.us](https://httpstat.us/) as a demonstration tool to automatically generate 500 errors.\n",
        "\n",
        "*Extra tip:* This demo simply doubles the wait time after each failure. Another good alternative (in milliseconds) is `Thread.Sleep((int) Math.Pow(10, retryCount));`."
      ]
    },
    {
      "cell_type": "code",
      "metadata": {
        "id": "Bywgaq_JSCOk",
        "colab_type": "code",
        "colab": {}
      },
      "source": [
        "uri_that_always_generates_500_errors = \"https://httpstat.us/500\"\n",
        "oauth2_session.get(uri_that_always_generates_500_errors)"
      ],
      "execution_count": 0,
      "outputs": []
    },
    {
      "cell_type": "markdown",
      "metadata": {
        "id": "nytxXKxMUH2f",
        "colab_type": "text"
      },
      "source": [
        "Now we'll add some code to retry when we encounter a 500. We will also import some libraries for dealing with time."
      ]
    },
    {
      "cell_type": "code",
      "metadata": {
        "id": "FhQ8hn-IVdA_",
        "colab_type": "code",
        "colab": {}
      },
      "source": [
        "import time\n",
        "import datetime\n",
        "\n",
        "def is_status_code_a_server_error(http_status_code):\n",
        "  return http_status_code >= 500 and http_status_code < 600\n",
        "\n",
        "def print_current_time_to_console():\n",
        "  print(\"Making a call at \" + str(datetime.datetime.now()))\n",
        "\n",
        "def call_api_with_500_retry_logic(oauth_session, uri_to_call):\n",
        "  print_current_time_to_console()\n",
        "  timer_in_seconds = 1\n",
        "  api_response = oauth_session.get(uri_to_call)\n",
        "  while(is_status_code_a_server_error(api_response.status_code) and timer_in_seconds < 30):\n",
        "    time.sleep(timer_in_seconds)\n",
        "    timer_in_seconds = timer_in_seconds * 2\n",
        "    print_current_time_to_console()\n",
        "    api_response = oauth_session.get(uri_to_call)\n",
        "  print(\"Unable to succeed in the API call. This would be a good point to log the exact API call made, the username of the caller, as well as the date\")"
      ],
      "execution_count": 0,
      "outputs": []
    },
    {
      "cell_type": "code",
      "metadata": {
        "id": "uILQQeqCXT3M",
        "colab_type": "code",
        "colab": {}
      },
      "source": [
        "call_api_with_500_retry_logic(oauth2_session, uri_that_always_generates_500_errors)"
      ],
      "execution_count": 0,
      "outputs": []
    },
    {
      "cell_type": "markdown",
      "metadata": {
        "id": "WeQnkgfi2TmN",
        "colab_type": "text"
      },
      "source": [
        "###Dealing with 429 responses###"
      ]
    },
    {
      "cell_type": "markdown",
      "metadata": {
        "id": "Ww15GVG72ZWm",
        "colab_type": "text"
      },
      "source": [
        "The MyJohnDeere API has [built-in flood protection](https://developer.deere.com/#!documentation&doc=myjohndeere%2F429.htm&anchor=) that generates HTTP 429 responses. It is triggered by too many requests from a single application, or when the MyJohnDeere API server is under unusually high load.\n",
        "\n",
        "As a demonstration, we'll set up a `mock` to simulate `429` responses from the `API Catalog`.\n",
        "\n"
      ]
    },
    {
      "cell_type": "code",
      "metadata": {
        "id": "9Z7XqyTY3bnO",
        "colab_type": "code",
        "colab": {}
      },
      "source": [
        "!pip install requests_mock"
      ],
      "execution_count": 0,
      "outputs": []
    },
    {
      "cell_type": "code",
      "metadata": {
        "id": "KFuY0OCo3UKY",
        "colab_type": "code",
        "colab": {}
      },
      "source": [
        "import requests\n",
        "import requests_mock\n",
        "\n",
        "mock_api_catalog_uri = 'mock://sandboxapi.deere.com/platform/'\n",
        "\n",
        "session = requests.Session()\n",
        "adapter = requests_mock.Adapter()\n",
        "session.mount('mock', adapter)\n",
        "\n",
        "retry_after_two_seconds_header = {'Retry-After' : '2'}\n",
        "adapter.register_uri('GET', mock_api_catalog_uri, status_code = 429, headers = retry_after_two_seconds_header)"
      ],
      "execution_count": 0,
      "outputs": []
    },
    {
      "cell_type": "markdown",
      "metadata": {
        "id": "1RvaWLo55Aih",
        "colab_type": "text"
      },
      "source": [
        "With the 429 response, the MyJohnDeere API server recommendations how long to wait - in seconds - before attempting to retry. We will use that response header in order to setup our sleep timers."
      ]
    },
    {
      "cell_type": "code",
      "metadata": {
        "id": "43wBNB7b3ivB",
        "colab_type": "code",
        "colab": {}
      },
      "source": [
        "import time\n",
        "import datetime\n",
        "\n",
        "def is_status_code_429(http_status_code):\n",
        "  return http_status_code == 429\n",
        "\n",
        "def print_current_time_to_console():\n",
        "  print(\"Making a call at \" + str(datetime.datetime.now()))\n",
        "  \n",
        "def call_api_with_429_retry_logic(session, uri_to_call):\n",
        "  print_current_time_to_console()\n",
        "  attempts = 0\n",
        "  api_response = session.get(uri_to_call)\n",
        "  while(is_status_code_429(api_response.status_code) and attempts < 3):\n",
        "    time.sleep(int(api_response.headers['Retry-After']))\n",
        "    attempts = attempts + 1\n",
        "    print_current_time_to_console()\n",
        "    api_response = session.get(uri_to_call)\n",
        "  print(\"For the 429, it can still be useful to have a maximum amount of retrys before considering the API call a failure\")"
      ],
      "execution_count": 0,
      "outputs": []
    },
    {
      "cell_type": "code",
      "metadata": {
        "id": "VMWtRo5g8cKV",
        "colab_type": "code",
        "colab": {}
      },
      "source": [
        "call_api_with_429_retry_logic(session, mock_api_catalog_uri)"
      ],
      "execution_count": 0,
      "outputs": []
    },
    {
      "cell_type": "markdown",
      "metadata": {
        "id": "aGkI-3be8CSO",
        "colab_type": "text"
      },
      "source": [
        "#Selecting the right organization for a grower#"
      ]
    },
    {
      "cell_type": "markdown",
      "metadata": {
        "id": "FZWsArof8ylb",
        "colab_type": "text"
      },
      "source": [
        "For most applications connected to the MyJohnDeere API, your end user is a farmer who is unlikely to be a member of multiple organizations in Operations Center. If a user is a member of multiple organizations, you will need to select which one to use. In the second cell, make sure to change the `selected_organization_index` to an organization from the results from the first cell."
      ]
    },
    {
      "cell_type": "code",
      "metadata": {
        "id": "aJKtEDPA71FZ",
        "colab_type": "code",
        "colab": {}
      },
      "source": [
        "current_user_response = get_myjohndeere_api_json_response(oauth2_session, current_user_uri)\n",
        "organizations_for_current_user_uri = current_user_response['links']['organizations']\n",
        "organizations_for_current_user_uri = default_to_count_100(organizations_for_current_user_uri)\n",
        "organizations_for_current_user = get_myjohndeere_api_collection_values_for_all_pages(oauth2_session, organizations_for_current_user_uri)\n",
        "organization_index = 0\n",
        "for organization in organizations_for_current_user:\n",
        "  print(\"[\" + str(organization_index) + \"] \" + organization['name'])\n",
        "  organization_index = organization_index + 1"
      ],
      "execution_count": 0,
      "outputs": []
    },
    {
      "cell_type": "code",
      "metadata": {
        "id": "pSjOV_Q1--BO",
        "colab_type": "code",
        "colab": {}
      },
      "source": [
        "#Replace the value of selected_organization_index to one of the values listed from the cell above\n",
        "selected_organization_index = 0\n",
        "\n",
        "selected_organization = organizations_for_current_user[selected_organization_index]\n",
        "print(\"The organization chosen has a name of \\\"\" + selected_organization['name'] + \"\\\" and an id of \" + selected_organization['id'])"
      ],
      "execution_count": 0,
      "outputs": []
    },
    {
      "cell_type": "markdown",
      "metadata": {
        "id": "SRI6VONnBsrs",
        "colab_type": "text"
      },
      "source": [
        "#Selecting the right organization for a contractor or a John Deere dealer#"
      ]
    },
    {
      "cell_type": "markdown",
      "metadata": {
        "id": "0y3J0SOTCO6Q",
        "colab_type": "text"
      },
      "source": [
        "Applications that target contractors or John Deere dealers often need to manage organizations differently. It is common for a contractor or dealer to support a large number of organizations, and your application will need a way to let the user select which one to use.\n",
        "\n",
        "Note that in this case you want to keep data separated by organization. Merging data across organizations is probably not what a dealer or contractor wants."
      ]
    },
    {
      "cell_type": "code",
      "metadata": {
        "id": "Vna2DZTcAr5V",
        "colab_type": "code",
        "colab": {}
      },
      "source": [
        "api_catalog_response = get_myjohndeere_api_json_response(oauth2_session, API_CATALOG_URI)\n",
        "organizations_uri = api_catalog_response['links']['organizations']\n",
        "organizations_uri = default_to_count_100(organizations_uri)\n",
        "\n",
        "organizations_visible_to_logged_in_user = get_myjohndeere_api_collection_values_for_all_pages(oauth2_session, organizations_uri)\n",
        "organization_index = 0\n",
        "for organization in organizations_visible_to_logged_in_user:\n",
        "  print(\"[\" + str(organization_index) + \"] \" + organization['name'])\n",
        "  organization_index = organization_index + 1"
      ],
      "execution_count": 0,
      "outputs": []
    },
    {
      "cell_type": "code",
      "metadata": {
        "id": "YDK-2UorD_Iy",
        "colab_type": "code",
        "colab": {}
      },
      "source": [
        "#Replace the values in the array below with the organizations you want to pick from above\n",
        "selected_organizations_array = [0, 1]\n",
        "\n",
        "selected_organizations = [organizations_visible_to_logged_in_user[i] for i in selected_organizations_array]\n",
        "print(\"The number of organizations chosen was \" + str(len(selected_organizations)))"
      ],
      "execution_count": 0,
      "outputs": []
    },
    {
      "cell_type": "markdown",
      "metadata": {
        "id": "LVKuC2Li1rl1",
        "colab_type": "text"
      },
      "source": [
        "#Getting your application to production#"
      ]
    },
    {
      "cell_type": "markdown",
      "metadata": {
        "id": "OV2ajDHH5_Ga",
        "colab_type": "text"
      },
      "source": [
        "###Application access while in Sandbox###"
      ]
    },
    {
      "cell_type": "markdown",
      "metadata": {
        "id": "56SJ9cEK6CQN",
        "colab_type": "text"
      },
      "source": [
        "Applications on developer.deere.com have two lifecycle phases. In \"Sandbox\", your application is only available to your application team. In \"Production\", real customers can use your application. This is the only major difference between the two - in both phases, your application calls the production MyJohnDeere backend."
      ]
    },
    {
      "cell_type": "markdown",
      "metadata": {
        "id": "J1ryqoT-3wmO",
        "colab_type": "text"
      },
      "source": [
        "This is a picture showing the \"Team Members\" of an application on developer.deere.com. Only \"Team\" members of a `Sandbox` application on developer.deere.com are allowed to authenticate. You can invite additional team members as needed for development and testing.\n",
        "\n",
        "![Team Section on developer.deere.com](https://github.com/JohnDeere/DevelopWithDeereNotebooks/raw/master/Best%20Practices/TeamOnDeveloperDeereCom.png)"
      ]
    },
    {
      "cell_type": "markdown",
      "metadata": {
        "id": "U8CZA1H55cHm",
        "colab_type": "text"
      },
      "source": [
        "###Getting to production###"
      ]
    },
    {
      "cell_type": "markdown",
      "metadata": {
        "id": "tSdc9r8a5gPh",
        "colab_type": "text"
      },
      "source": [
        "When your application is ready to go to production with the MyJohnDeere API, it must pass two checks before we will grant Production access."
      ]
    },
    {
      "cell_type": "markdown",
      "metadata": {
        "id": "ACyW6KD97MQC",
        "colab_type": "text"
      },
      "source": [
        "Schedule a review with John Deere's API support team. You do not need to share your source code - we just want to check our logs. Your application should be used like a real customer would use your application. This can include initial signup, creating data, and polling the MyJohnDeere API's.\n",
        "\n",
        "If anything critical is noticed in the review, such as potential DDoS attacks or inefficient API usage, we'll make suggestions."
      ]
    },
    {
      "cell_type": "markdown",
      "metadata": {
        "id": "FWerEr5v7MwF",
        "colab_type": "text"
      },
      "source": [
        "The John Deere Business Development team needs a signed API usage agreement. This agreement goes over all of the APIs required, the usage limits for those APIs, and allowed behaviors."
      ]
    },
    {
      "cell_type": "markdown",
      "metadata": {
        "id": "79v4ET3p7fG8",
        "colab_type": "text"
      },
      "source": [
        "Once both steps are complete, production access will be granted. At that time, change the base URI you use to call MyJohnDeere from 'https://sandboxapi.deere.com/platform/' to 'https://partnerapi.deere.com/platform/'."
      ]
    }
  ]
}

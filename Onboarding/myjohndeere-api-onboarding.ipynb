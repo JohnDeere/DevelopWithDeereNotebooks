{
  "nbformat": 4,
  "nbformat_minor": 0,
  "metadata": {
    "colab": {
      "name": "MyJohnDeere API Onboarding.ipynb",
      "provenance": [],
      "collapsed_sections": [],
      "include_colab_link": true
    },
    "kernelspec": {
      "display_name": "Python 3",
      "language": "python",
      "name": "python3"
    }
  },
  "cells": [
    {
      "cell_type": "markdown",
      "metadata": {
        "id": "view-in-github",
        "colab_type": "text"
      },
      "source": [
        "<a href=\"https://colab.research.google.com/github/Hutch4Cy/DevelopWithDeereNotebooks/blob/master/Onboarding/myjohndeere-api-onboarding.ipynb\" target=\"_parent\"><img src=\"https://colab.research.google.com/assets/colab-badge.svg\" alt=\"Open In Colab\"/></a>"
      ]
    },
    {
      "cell_type": "markdown",
      "metadata": {
        "id": "MKtxTwD8clVy",
        "colab_type": "text"
      },
      "source": [
        "#MyJohnDeere API Onboarding#\n",
        "In this notebook your will create a John Deere account, build your first application on developer.deere.com, learn how to create test data, learn how to connect with more test data, and make your first API calls\n",
        "\n",
        "**Note - This notebook requires that you be logged into Google.**\n",
        "\n",
        "Copyright (c) 2018 Deere & Company\n",
        " \n",
        "This software may be modified and distributed under the terms\n",
        "of the MIT license.  See the LICENSE file for details.\n"
      ]
    },
    {
      "cell_type": "markdown",
      "metadata": {
        "id": "vW-P6VvSkIUQ",
        "colab_type": "text"
      },
      "source": [
        "##Creating a John Deere account##"
      ]
    },
    {
      "cell_type": "markdown",
      "metadata": {
        "id": "YN-pNCfsew6j",
        "colab_type": "text"
      },
      "source": [
        "###To get started, create a John Deere account at https://myjohndeere.com###\n",
        "![MyJohnDeere Login Page](https://github.com/JohnDeere/DevelopWithDeereNotebooks/raw/master/Onboarding/MyJohnDeereLogin.jpg)"
      ]
    },
    {
      "cell_type": "markdown",
      "metadata": {
        "id": "30hdi4aGURdh",
        "colab_type": "text"
      },
      "source": [
        "###After completing your personal info, you will receive a validation email. You must validate your profile before continuing.###\n",
        "![Validation Email](https://github.com/JohnDeere/DevelopWithDeereNotebooks/raw/master/Onboarding/ValidationEmail.jpg)"
      ]
    },
    {
      "cell_type": "markdown",
      "metadata": {
        "id": "jfb4ELXxU5CA",
        "colab_type": "text"
      },
      "source": [
        "###Complete information to finish validation.###\n",
        "![Finish Validation](https://github.com/JohnDeere/DevelopWithDeereNotebooks/raw/master/Onboarding/FinishValidationScreen.jpg)"
      ]
    },
    {
      "cell_type": "markdown",
      "metadata": {
        "id": "mJz2iZIKVZnu",
        "colab_type": "text"
      },
      "source": [
        "##Register an application on developer.deere.com##"
      ]
    },
    {
      "cell_type": "markdown",
      "metadata": {
        "id": "cxA2BFJ5Vgdw",
        "colab_type": "text"
      },
      "source": [
        "###Go to https://developer.deere.com and log in. First time users will be asked to sign the 'Terms Of Use'.###\n",
        "\n",
        "developer.deere.com and find the log in on the top right\n",
        "![Login With dd.com](https://github.com/JohnDeere/DevelopWithDeereNotebooks/raw/master/Onboarding/developerdeereWithLogin.jpg)\n",
        "\n",
        "Accept the 'Terms of Use'\n",
        "![Signing Terms](https://github.com/JohnDeere/DevelopWithDeereNotebooks/raw/master/Onboarding/SigningTermsOnDeveloperDeere.jpg)"
      ]
    },
    {
      "cell_type": "markdown",
      "metadata": {
        "id": "X7pRa_PsV_jg",
        "colab_type": "text"
      },
      "source": [
        "###Create an application###\n",
        "\n",
        "Select Applications from the user dropdown in the top right.\n",
        "![Applications Link](https://github.com/JohnDeere/DevelopWithDeereNotebooks/raw/master/Onboarding/FindApplications.jpg)\n",
        "\n",
        "Click add application.\n",
        "![Applications Link](https://github.com/JohnDeere/DevelopWithDeereNotebooks/raw/master/Onboarding/AddApplication.png)\n",
        "\n",
        "A new applications needs at a minimum an App Name and Version ID.\n",
        "![Create Application Screen](https://github.com/JohnDeere/DevelopWithDeereNotebooks/raw/master/Onboarding/CreateApplicatoin.jpg)\n",
        "\n",
        "Once your applicaiton is created it will show up in the Applications list.\n",
        "![Newly Created Application](https://github.com/JohnDeere/DevelopWithDeereNotebooks/raw/master/Onboarding/NewlyCreatedApp.jpg)"
      ]
    },
    {
      "cell_type": "markdown",
      "metadata": {
        "id": "HaEbCsR4WeZJ",
        "colab_type": "text"
      },
      "source": [
        "###Within the John Deere system, newly created applications take up to 20 minutes to fully sync. If you notice any 400 errors while attempting to do OAuth, the process has not completed.###\n",
        "![400 Error For Uncomplete Creation](https://github.com/JohnDeere/DevelopWithDeereNotebooks/raw/master/Onboarding/ASyncJobNotFinished.jpg)"
      ]
    },
    {
      "cell_type": "markdown",
      "metadata": {
        "id": "W4r8rcD9W8Ey",
        "colab_type": "text"
      },
      "source": [
        "##Create an organization within John Deere Operations Center##"
      ]
    },
    {
      "cell_type": "markdown",
      "metadata": {
        "id": "c9L2UUHmXAZg",
        "colab_type": "text"
      },
      "source": [
        "###John Deere Operations Center is the flagship farm management solution from John Deere. Find it on [MyJohnDeere](https://myjohndeere.deere.com). ###\n",
        "![MyJohnDeere and Operations Center](https://github.com/JohnDeere/DevelopWithDeereNotebooks/raw/master/Onboarding/FindingOperationsCenterOnMyJohnDeere.jpg)"
      ]
    },
    {
      "cell_type": "markdown",
      "metadata": {
        "id": "waiD2Jr9XfSB",
        "colab_type": "text"
      },
      "source": [
        "###Organizations are a core concept within John Deere Operations Center. Most data is managed within the context of an organization. An organization must be created in order to use John Deere Operations Center.###\n",
        "![Create Organization](https://github.com/JohnDeere/DevelopWithDeereNotebooks/raw/master/Onboarding/CreateNewOrganization.jpg)"
      ]
    },
    {
      "cell_type": "markdown",
      "metadata": {
        "id": "hboxV_HIX8KF",
        "colab_type": "text"
      },
      "source": [
        "###When created organizations do not have any data. Data must be added to an organization to act as an effective test organization for development. Go to the Files tool to start the uploading process.###\n",
        "\n",
        "Tools can be found in the primary header of John Deere Operations Center.\n",
        "\n",
        "![Finding Tools](https://github.com/JohnDeere/DevelopWithDeereNotebooks/raw/master/Onboarding/FindingTools.jpg)\n",
        "\n",
        "Files can be found within the Tools area.\n",
        "![Finding Files](https://github.com/JohnDeere/DevelopWithDeereNotebooks/raw/master/Onboarding/FindingFiles.jpg)\n",
        "\n",
        "\n",
        "![Files Empty](https://github.com/JohnDeere/DevelopWithDeereNotebooks/raw/master/Onboarding/FilesEmpty.jpg)"
      ]
    },
    {
      "cell_type": "markdown",
      "metadata": {
        "id": "cFjb1HacYWh-",
        "colab_type": "text"
      },
      "source": [
        "###Sample files to upload exist on [John Deere's Github](https://github.com/JohnDeere) account. Go to the [SampleData](https://github.com/JohnDeere/SampleData) repository to find sample data.###\n",
        "\n",
        "John Deere has a public Github page filled with sample applications for use with the John Deere APIs, sample data to help with using the John Deere APIs, as well as John Deere's open source projects.\n",
        "![John Deere Github](https://github.com/JohnDeere/DevelopWithDeereNotebooks/raw/master/Onboarding/JohnDeereGithub.jpg)\n",
        "\n",
        "Sample data can be downloaded from the \"Sample Data\" repo. It is recommended that you download the [GS3 - 2630 Setup With Boundary And Guidance Lines.zip](https://github.com/JohnDeere/SampleData/blob/master/Display%20data/GS3%20-%202630%20Setup%20With%20Boundary%20And%20Guidance%20Lines.zip), [Gen4 - 4600 Harvest Data.zip](https://github.com/JohnDeere/SampleData/blob/master/Display%20data/Gen4%20-%204600%20Harvest%20Data.zip), and [Gen4 - 4600 Planting Data](https://github.com/JohnDeere/SampleData/blob/master/Display%20data/Gen4%20-%204600%20Planting%20Data.zip).\n",
        "![Downloading Sample Data](https://github.com/JohnDeere/DevelopWithDeereNotebooks/raw/master/Onboarding/DownloadingSampleData.jpg)\n"
      ]
    },
    {
      "cell_type": "markdown",
      "metadata": {
        "id": "7WlZ58PAZYQl",
        "colab_type": "text"
      },
      "source": [
        "###Upload the sample files into the Files tool on John Deere Operations Center. File processing can take a few minutes depending on the size of the file.###\n",
        "\n",
        "Files are grayed out and inaccessible before they have finished processing.\n",
        "![Files Started Uploading](https://github.com/JohnDeere/DevelopWithDeereNotebooks/raw/master/Onboarding/FilesUploaded.jpg)\n",
        "\n",
        "\n",
        "Files are selectable and more details can be discovered after they have finished processing.\n",
        "![Files Processed](https://github.com/JohnDeere/DevelopWithDeereNotebooks/raw/master/Onboarding/FilesProcessed.jpg)"
      ]
    },
    {
      "cell_type": "markdown",
      "metadata": {
        "id": "iTJNC4u0Z3im",
        "colab_type": "text"
      },
      "source": [
        "###Review the Fields panel on the map to see the agronomic data after the files have been processed.###\n",
        "![Fields Processed](https://github.com/JohnDeere/DevelopWithDeereNotebooks/raw/master/Onboarding/FieldsProcessedFromFiles.jpg)"
      ]
    },
    {
      "cell_type": "markdown",
      "metadata": {
        "id": "NlkTGab6dUz3",
        "colab_type": "text"
      },
      "source": [
        "##Use the newly created application for the first time##"
      ]
    },
    {
      "cell_type": "markdown",
      "metadata": {
        "id": "4OuFOBbAdYkk",
        "colab_type": "text"
      },
      "source": [
        "###Go to your application on [developer.deere.com](https://developer.deere.com) and select the Test Client.###\n",
        "![Test Client](https://github.com/JohnDeere/DevelopWithDeereNotebooks/raw/master/Onboarding/TestClientAndSecurityForApp.jpg)"
      ]
    },
    {
      "cell_type": "markdown",
      "metadata": {
        "id": "q-Dh1XcqdonY",
        "colab_type": "text"
      },
      "source": [
        "###Follow the Security process. Allow the popup if your popup blocker stops the OAuth approval process.###\n",
        "![OAuth Approval Screen](https://github.com/JohnDeere/DevelopWithDeereNotebooks/raw/master/Onboarding/OAuthScreen.jpg)"
      ]
    },
    {
      "cell_type": "markdown",
      "metadata": {
        "id": "n-fejmQId4Zf",
        "colab_type": "text"
      },
      "source": [
        "###Use the Test Client to make your first successful call to the API Catalog.###\n",
        "![API Catalog Call](https://github.com/JohnDeere/DevelopWithDeereNotebooks/raw/master/Onboarding/FirstSuccessfulCallToCatalog.jpg)"
      ]
    },
    {
      "cell_type": "markdown",
      "metadata": {
        "id": "OfcoClSNhkRd",
        "colab_type": "text"
      },
      "source": [
        "##Call the MyJohnDeere API from code##\n",
        "\n"
      ]
    },
    {
      "cell_type": "markdown",
      "metadata": {
        "id": "XG6dagr9beFu",
        "colab_type": "text"
      },
      "source": [
        "###Client configuration###"
      ]
    },
    {
      "cell_type": "markdown",
      "metadata": {
        "id": "yhtMc5b0espF",
        "colab_type": "text"
      },
      "source": [
        "OAuth 2.0 requires that your application specify a redirect URL.  The redirect URL is the site the user is navigated back to upon completing the John Deere login authentication and consent.  The redirect URL is configured in your application's OAuth profile in developer.deere.com.  \n",
        "\n",
        "![alt text](https://github.com/Hutch4Cy/DevelopWithDeereNotebooks/raw/master/Onboarding/OAuthProfileButton.jpg)\n",
        "\n",
        "For the purposes of this excercise you will set the redirect URL to \"https://localhost\".  Note that once the the redirect URI is configured it may take up to 30 minutes for the update to sync with the OAuth server.\n",
        "\n",
        "![alt text](https://github.com/Hutch4Cy/DevelopWithDeereNotebooks/raw/master/Onboarding/OAuthProfileRedirectURI.jpg)"
      ]
    },
    {
      "cell_type": "markdown",
      "metadata": {
        "id": "PrSRYxK5clXe",
        "colab_type": "text"
      },
      "source": [
        "###Create an OAuth 2.0 session with the MyJohnDeere API###\n"
      ]
    },
    {
      "cell_type": "markdown",
      "metadata": {
        "id": "0OysPD2LaGFg",
        "colab_type": "text"
      },
      "source": [
        "####Import OAuth 2.0 helper libraries####\n",
        "We recommend that you find a library in your language of choice that can mananging an OAuth 2.0 session when working with the MyJohnDeere API.  Below we'll be using [`requests-oauthlib`](https://requests-oauthlib.readthedocs.io/en/latest/) to manage the OAuth 2.0 session in Python.  We'll also be loosly following the work flow documented in the [`requests-oauthlib worflow guide`](https://requests-oauthlib.readthedocs.io/en/latest/oauth2_workflow.html).\n"
      ]
    },
    {
      "cell_type": "code",
      "metadata": {
        "id": "yOoT1d_bclWF",
        "colab_type": "code",
        "colab": {}
      },
      "source": [
        "# Import needed libraries to make API calls with OAuth 2.0\n",
        "from requests_oauthlib import OAuth2Session, requests\n",
        "import json"
      ],
      "execution_count": 0,
      "outputs": []
    },
    {
      "cell_type": "markdown",
      "metadata": {
        "id": "Uq6AIB7uic5F",
        "colab_type": "text"
      },
      "source": [
        "####Query for OAuth 2.0 .well-known parameters####\n",
        "Before we can setup an OAuth 2.0 session we need to do acquire some setup parameters.  John Deere provides a .well-known URL for client applications to dynamically query for OAuth 2.0 configurations parameters.\n",
        "\n"
      ]
    },
    {
      "cell_type": "code",
      "metadata": {
        "id": "QUndY98ZclWU",
        "colab_type": "code",
        "colab": {}
      },
      "source": [
        "OAUTH2_WELL_KNOWN_URL = 'https://signin.johndeere.com/oauth2/aus78tnlaysMraFhC1t7/.well-known/oauth-authorization-server'"
      ],
      "execution_count": 0,
      "outputs": []
    },
    {
      "cell_type": "markdown",
      "metadata": {
        "id": "JpuOrSwSUDoC",
        "colab_type": "text"
      },
      "source": [
        "Query the .well-known URL to obtain the OAuth authorizations server URL, token grant server URL, and available scopes."
      ]
    },
    {
      "cell_type": "code",
      "metadata": {
        "id": "BN9wcReaUYty",
        "colab_type": "code",
        "colab": {}
      },
      "source": [
        "well_known_response = requests.get(OAUTH2_WELL_KNOWN_URL)\n",
        "well_known_info = json.loads(well_known_response.text)\n",
        "\n",
        "authorization_server_url = well_known_info['authorization_endpoint']\n",
        "token_grant_server_url = well_known_info['token_endpoint']\n",
        "available_oauth2_scopes = str(' ').join(well_known_info['scopes_supported'])\n",
        "\n",
        "print('Authorization URL - ' + authorization_server_url)\n",
        "print('Token Grant URL - ' + token_grant_server_url)\n",
        "print('Available Scopes - ' + available_oauth2_scopes)"
      ],
      "execution_count": 0,
      "outputs": []
    },
    {
      "cell_type": "markdown",
      "metadata": {
        "id": "iJhjaJQ3ioMv",
        "colab_type": "text"
      },
      "source": [
        "####Define OAuth 2.0 session parameters####\n",
        "\n",
        "OAuth 2.0 requires a few parameters when asking for an authorization code.  Let's define them here.\n"
      ]
    },
    {
      "cell_type": "code",
      "metadata": {
        "id": "yizbiJNPmC3G",
        "colab_type": "code",
        "colab": {}
      },
      "source": [
        "CLIENT_KEY = 'johndeere-7d5qS7Wfxhq1emRPPHCQag85'\n",
        "CLIENT_SECRET = ''\n",
        "\n",
        "# Define your Client Application credentials here\n",
        "#CLIENT_KEY = 'place_client_key_here'\n",
        "#CLIENT_SECRET = 'place_client_secret_here'\n",
        "\n",
        "# CLIENT CREDENTIAL CHECK! - This line of code verifies that you've modified the client_key and client_secret to the values above so that your application can complete OAuth\"\n",
        "assert(CLIENT_KEY != 'place_client_key_here' and CLIENT_SECRET != 'place_client_secret_here'), \"You need to update your client_key and client_secret in this cell\"\n",
        "\n",
        "# OAuth 2.0 requires a redirect URI to navigate to after the user authenticates and consents.  For the purpose of this excercise we will just use https://localhost. Note that the URI defined in\n",
        "# developer.deere.com MUST match the URI specificied below.  If you haven't setup the redirect URI for your application in developer.deere.com - do that now before proceeding (prior step in \n",
        "# this notebook).\n",
        "REDIRECT_URI = 'http://localhost:8080/login'\n",
        "\n",
        "# These are the scopes that your application is requesting the user consent access/use for.  This list should be updated based on your application's needs.\n",
        "# Note that you must provide 'offline_access' scope in order to leverage a refresh token for future access tokens\n",
        "SCOPES_TO_REQUEST = {'offline_access', 'ag1', 'ag2', 'ag3', 'eq1', 'eq2', 'org1', 'org2'}\n",
        "\n",
        "# This is an application defined value that can be used to verify that OAuth authorization code came from the real authorization server.  Its used to prevent cross-site request forgery (CSRF) attacks.\n",
        "# For the purpose of this excercise, we just set it to an arbitrary number.\n",
        "OAUTH_STATE = '1234'"
      ],
      "execution_count": 0,
      "outputs": []
    },
    {
      "cell_type": "markdown",
      "metadata": {
        "id": "G4YOLGCXfDkV",
        "colab_type": "text"
      },
      "source": [
        "####Create an OAuth 2.0 session####\n",
        "\n",
        "Now its time to create an OAuth 2.0 session by asking the user to authenticate and consent to the scopes required for your application.  Once the user grants consent, the authorization server will return back an authorization code which will be used to obtain an access token."
      ]
    },
    {
      "cell_type": "code",
      "metadata": {
        "id": "Yb53i7axfD2X",
        "colab_type": "code",
        "colab": {}
      },
      "source": [
        "# Create a session - specify the redirect URI and desired scopes\n",
        "oauth2_session = OAuth2Session(CLIENT_KEY,  redirect_uri=REDIRECT_URI, scope=SCOPES_TO_REQUEST)\n",
        "\n",
        "# Query the OAuth authorization server for an authorization code.  This will allow the user to authenticate and consent to scope use.\n",
        "authorization_request, state = oauth2_session.authorization_url(authorization_server_url, OAUTH_STATE)\n",
        "print(\"Click on the following link to obtain an authroization code\\n\" + authorization_request + \" and paste the results in the next cell as the Authorization Code\")"
      ],
      "execution_count": 0,
      "outputs": []
    },
    {
      "cell_type": "markdown",
      "metadata": {
        "id": "U-LkfpkojCAK",
        "colab_type": "text"
      },
      "source": [
        "Once the user has authenticated and consented, the authorization server will re-direct your application back to the REDIRECT_URI (https://localhost for this excercise) with the authroization code.  Copy the authorization 'code' and provide it as input in the next step.  Also note that your application can verify that the returned 'state' parameter matches the OAUTH_STATE value used in the request.\n",
        "\n",
        "![PICTURE HERE!!!](https://github.com/Hutch4Cy/DevelopWithDeereNotebooks/raw/master/Onboarding/OAuth2Code.jpg)"
      ]
    },
    {
      "cell_type": "code",
      "metadata": {
        "id": "kfEi_F4WuDut",
        "colab_type": "code",
        "colab": {}
      },
      "source": [
        "# Input the returned authorization code here...\n",
        "authorization_code = input('Authorization Code: ')"
      ],
      "execution_count": 0,
      "outputs": []
    },
    {
      "cell_type": "markdown",
      "metadata": {
        "id": "LtXk38FgnaUJ",
        "colab_type": "text"
      },
      "source": [
        "Now that you have an authorization code, you can now query for OAuth token grant URL for an access and refresh token as follows..."
      ]
    },
    {
      "cell_type": "code",
      "metadata": {
        "id": "uN6BGqsznblj",
        "colab_type": "code",
        "colab": {}
      },
      "source": [
        "print(\"Fetching tokens...\")\n",
        "token_response = oauth2_session.fetch_token(token_grant_server_url, code=authorization_code, client_secret=CLIENT_SECRET)\n",
        "access_token = token_response['access_token']\n",
        "refresh_token = token_response['refresh_token']\n",
        "print( \"Access Token: \" + access_token)\n",
        "print( \"Refresh Token: \" + refresh_token)\n"
      ],
      "execution_count": 0,
      "outputs": []
    },
    {
      "cell_type": "markdown",
      "metadata": {
        "id": "Cv7CJh-n2HtH",
        "colab_type": "text"
      },
      "source": [
        "###Make a call to the MyJohnDeere API###"
      ]
    },
    {
      "cell_type": "markdown",
      "metadata": {
        "id": "62MNdbsmeIwT",
        "colab_type": "text"
      },
      "source": [
        "Now that an OAuth 2.0 session has been established, your application can make calls to the MyJohnDeereAPI. The [API Catalog](https://developer.deere.com/#!documentation&doc=myjohndeere%2FapiCatalog.htm&anchor=) is the root resource from which you can begin to traverse the MyJohnDeere API. The MyJohnDeere API is designed to be [`discoverable`](https://www.baeldung.com/restful-web-service-discoverability). This means that your application should be able to start a session at the [API Catalog](https://developer.deere.com/#!documentation&doc=myjohndeere%2FapiCatalog.htm&anchor=) and find everything else your application needs for your feature via [`links.`](https://developer.deere.com/#!documentation&doc=.%2Fmyjohndeere%2Flinks.htm&anchor=).  Below we'll call the [API Catalog](https://developer.deere.com/#!documentation&doc=myjohndeere%2FapiCatalog.htm&anchor=) and inspect the response."
      ]
    },
    {
      "cell_type": "code",
      "metadata": {
        "id": "bQ9bd8O-zzYp",
        "colab_type": "code",
        "colab": {}
      },
      "source": [
        "# The API Catalog is the root resource for the MyJohnDeereAPI\n",
        "MYJOHNDEERE_API_CATALOG_URI = 'https://api.deere.com/platform/'\n",
        "#MYJOHNDEERE_API_CATALOG_URI = 'https://partnerapi.deere.com/platform/'\n",
        "\n",
        "# The MyJohnDeereAPI commonly uses the following headers\n",
        "MYJOHNDEERE_V3_JSON_HEADERS = { 'Accept': 'application/vnd.deere.axiom.v3+json',\n",
        "                                'Content-Type': 'application/vnd.deere.axiom.v3+json'}\n",
        "\n",
        "api_catalog_response = oauth2_session.get(MYJOHNDEERE_API_CATALOG_URI, headers=MYJOHNDEERE_V3_JSON_HEADERS)"
      ],
      "execution_count": 0,
      "outputs": []
    },
    {
      "cell_type": "markdown",
      "metadata": {
        "id": "SoF7r6okgcPA",
        "colab_type": "text"
      },
      "source": [
        "We follow the standard [HTTP status codes ](https://en.wikipedia.org/wiki/List_of_HTTP_status_codes) with our API responses. You should see a 200 response within the following cell."
      ]
    },
    {
      "cell_type": "code",
      "metadata": {
        "id": "VSm8OLl8tYcR",
        "colab_type": "code",
        "colab": {}
      },
      "source": [
        "api_catalog_response.status_code"
      ],
      "execution_count": 0,
      "outputs": []
    },
    {
      "cell_type": "markdown",
      "metadata": {
        "id": "PCfUxJCaa7dO",
        "colab_type": "text"
      },
      "source": [
        "The `API Catalog` contains an array of `links` that can help you discover yet more parts of the MyJohnDeere API."
      ]
    },
    {
      "cell_type": "code",
      "metadata": {
        "id": "4ozvO2scrM4x",
        "colab_type": "code",
        "colab": {}
      },
      "source": [
        "api_catalog_response.json()"
      ],
      "execution_count": 0,
      "outputs": []
    },
    {
      "cell_type": "markdown",
      "metadata": {
        "id": "9cjMCuVlpVmw",
        "colab_type": "text"
      },
      "source": [
        "MyJohnDeere API includes support for a variety of headers, both for requests coming into the MyJohnDeere API as well as responses coming from the MyJohnDeere API. Below we'll look at the headers being returned by the MyJohnDeere API."
      ]
    },
    {
      "cell_type": "code",
      "metadata": {
        "id": "eeaARGppt36Z",
        "colab_type": "code",
        "colab": {}
      },
      "source": [
        "api_catalog_response.headers"
      ],
      "execution_count": 0,
      "outputs": []
    },
    {
      "cell_type": "markdown",
      "metadata": {
        "id": "4OsOvwqlqeyX",
        "colab_type": "text"
      },
      "source": [
        "###Follow the `organizations` link from the `API Catalog`###"
      ]
    },
    {
      "cell_type": "markdown",
      "metadata": {
        "id": "8AJG8h-qqlF1",
        "colab_type": "text"
      },
      "source": [
        " First, we'll get the links from the `API Catalog response`."
      ]
    },
    {
      "cell_type": "code",
      "metadata": {
        "id": "m3vhsmOwq-17",
        "colab_type": "code",
        "colab": {}
      },
      "source": [
        "links_array_from_api_catalog_response = api_catalog_response.json()['links']\n",
        "links_array_from_api_catalog_response"
      ],
      "execution_count": 0,
      "outputs": []
    },
    {
      "cell_type": "markdown",
      "metadata": {
        "id": "TLI-f8rpsH2F",
        "colab_type": "text"
      },
      "source": [
        "We will now go through all of the links that are available to find the link for the `organizations`. The `rel` attribute tells us what the link represents while the `uri` attributes tells us where within the MyJohnDeere API to go to discover those resources."
      ]
    },
    {
      "cell_type": "code",
      "metadata": {
        "id": "HDHSFWTMrjGH",
        "colab_type": "code",
        "colab": {}
      },
      "source": [
        "organizations_link = None\n",
        "\n",
        "for link_object in links_array_from_api_catalog_response:\n",
        "  if(link_object['rel'] == 'organizations'):\n",
        "    organizations_link = link_object['uri']\n",
        "    break;\n",
        "    \n",
        "organizations_link"
      ],
      "execution_count": 0,
      "outputs": []
    },
    {
      "cell_type": "markdown",
      "metadata": {
        "id": "tNcDfyi_tAk_",
        "colab_type": "text"
      },
      "source": [
        "Using the same OAuth session object as before, we'll make another `GET` call, only this time to the `organizations` link that we discovered from the `API Catalog`. Unlike the `API Catalog`, this response contains an object with attributes and links. Below we can see the `JSON` response with information like the name of the organization as well as if the logged in user is a staff member of that organization."
      ]
    },
    {
      "cell_type": "code",
      "metadata": {
        "id": "-BBbgkBVsAr_",
        "colab_type": "code",
        "colab": {}
      },
      "source": [
        "organizations_response = oauth2_session.get(organizations_link, headers = MYJOHNDEERE_V3_JSON_HEADERS)\n",
        "organizations_response.json()"
      ],
      "execution_count": 0,
      "outputs": []
    },
    {
      "cell_type": "markdown",
      "metadata": {
        "id": "GvaWXLiGsNf5",
        "colab_type": "text"
      },
      "source": [
        "###Use the Refresh Token to acquire a new Access Token###"
      ]
    },
    {
      "cell_type": "markdown",
      "metadata": {
        "id": "ls44r1AtzM9b",
        "colab_type": "text"
      },
      "source": [
        "Since OAuth access tokens expire (24hrs for the MyJohnDeereAPI), you can leverage your refresh token to gain a new access token if it should expire. "
      ]
    },
    {
      "cell_type": "code",
      "metadata": {
        "id": "8k6jQdFKsNDj",
        "colab_type": "code",
        "colab": {}
      },
      "source": [
        "print(\"Fetching refresh token...\")\n",
        "token_response = oauth2_session.refresh_token(token_grant_server_url, refresh_token=refresh_token, auth=(CLIENT_KEY, CLIENT_SECRET))\n",
        "access_token = token_response['access_token']\n",
        "refresh_token = token_response['refresh_token']\n",
        "print( \"Access Token: \" + access_token)\n",
        "print( \"Refresh Token: \" + refresh_token)\n",
        "\n",
        "api_catalog_response = oauth2_session.get(MYJOHNDEERE_API_CATALOG_URI, headers=MYJOHNDEERE_V3_JSON_HEADERS)\n",
        "api_catalog_response.status_code"
      ],
      "execution_count": 0,
      "outputs": []
    }
  ]
}
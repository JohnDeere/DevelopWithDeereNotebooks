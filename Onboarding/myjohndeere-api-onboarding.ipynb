{
  "nbformat": 4,
  "nbformat_minor": 0,
  "metadata": {
    "colab": {
      "name": "myjohndeere-api-onboarding.ipynb",
      "provenance": [],
      "collapsed_sections": []
    },
    "kernelspec": {
      "display_name": "Python 3",
      "language": "python",
      "name": "python3"
    }
  },
  "cells": [
    {
      "cell_type": "markdown",
      "metadata": {
        "id": "view-in-github",
        "colab_type": "text"
      },
      "source": [
        "<a href=\"https://colab.research.google.com/github/JohnDeere/DevelopWithDeereNotebooks/blob/master/Onboarding/myjohndeere-api-onboarding.ipynb\" target=\"_parent\"><img src=\"https://colab.research.google.com/assets/colab-badge.svg\" alt=\"Open In Colab\"/></a>"
      ]
    },
    {
      "cell_type": "markdown",
      "metadata": {
        "id": "MKtxTwD8clVy",
        "colab_type": "text"
      },
      "source": [
        "# MyJohnDeere API Onboarding#\n",
        "Create a John Deere account, build your first application on developer.deere.com, learn how to create test data, learn how to connect with more test data, and make your first API calls\n",
        "\n",
        "**Note - This notebook requires that you be logged into Google.**\n",
        "\n",
        "Copyright (c) 2018 Deere & Company\n",
        " \n",
        "This software may be modified and distributed under the terms\n",
        "of the MIT license.  See the LICENSE file for details.\n"
      ]
    },
    {
      "cell_type": "markdown",
      "metadata": {
        "id": "vW-P6VvSkIUQ",
        "colab_type": "text"
      },
      "source": [
        "## Creating a John Deere account"
      ]
    },
    {
      "cell_type": "markdown",
      "metadata": {
        "id": "YN-pNCfsew6j",
        "colab_type": "text"
      },
      "source": [
        "###To get started, create a John Deere account at https://myjohndeere.com###\n",
        "![MyJohnDeere Login Page](https://github.com/JohnDeere/DevelopWithDeereNotebooks/raw/master/Onboarding/MyJohnDeereLogin.jpg)"
      ]
    },
    {
      "cell_type": "markdown",
      "metadata": {
        "id": "30hdi4aGURdh",
        "colab_type": "text"
      },
      "source": [
        "###After completing your personal info, you will receive a validation email. You must validate your profile before continuing.###\n",
        "![Validation Email](https://github.com/JohnDeere/DevelopWithDeereNotebooks/raw/master/Onboarding/ValidationEmail.jpg)"
      ]
    },
    {
      "cell_type": "markdown",
      "metadata": {
        "id": "jfb4ELXxU5CA",
        "colab_type": "text"
      },
      "source": [
        "###Complete information to finish validation.###\n",
        "![Finish Validation](https://github.com/JohnDeere/DevelopWithDeereNotebooks/raw/master/Onboarding/FinishValidationScreen.jpg)"
      ]
    },
    {
      "cell_type": "markdown",
      "metadata": {
        "id": "W4r8rcD9W8Ey",
        "colab_type": "text"
      },
      "source": [
        "## Create an organization within John Deere Operations Center"
      ]
    },
    {
      "cell_type": "markdown",
      "metadata": {
        "id": "c9L2UUHmXAZg",
        "colab_type": "text"
      },
      "source": [
        "###John Deere Operations Center is the flagship farm management solution from John Deere. Find it on [MyJohnDeere](https://myjohndeere.deere.com). ###\n",
        "![MyJohnDeere and Operations Center](https://github.com/JohnDeere/DevelopWithDeereNotebooks/raw/master/Onboarding/FindingOperationsCenterOnMyJohnDeere.jpg)"
      ]
    },
    {
      "cell_type": "markdown",
      "metadata": {
        "id": "waiD2Jr9XfSB",
        "colab_type": "text"
      },
      "source": [
        "###Organizations are a core concept within John Deere Operations Center. Most data is managed within the context of an organization. An organization must be created in order to use John Deere Operations Center.###\n",
        "![Create Organization](https://github.com/JohnDeere/DevelopWithDeereNotebooks/raw/master/Onboarding/CreateNewOrganization.jpg)"
      ]
    },
    {
      "cell_type": "markdown",
      "metadata": {
        "id": "hboxV_HIX8KF",
        "colab_type": "text"
      },
      "source": [
        "###When created organizations do not have any data. Data must be added to an organization to act as an effective test organization for development. Go to the Files tool to start the uploading process.###\n",
        "\n",
        "Tools can be found in the primary header of John Deere Operations Center.\n",
        "\n",
        "![Finding Tools](https://github.com/JohnDeere/DevelopWithDeereNotebooks/raw/master/Onboarding/FindingTools.jpg)\n",
        "\n",
        "Files can be found within the Tools area.\n",
        "![Finding Files](https://github.com/JohnDeere/DevelopWithDeereNotebooks/raw/master/Onboarding/FindingFiles.jpg)\n",
        "\n",
        "\n",
        "![Files Empty](https://github.com/JohnDeere/DevelopWithDeereNotebooks/raw/master/Onboarding/FilesEmpty.jpg)"
      ]
    },
    {
      "cell_type": "markdown",
      "metadata": {
        "id": "cFjb1HacYWh-",
        "colab_type": "text"
      },
      "source": [
        "###Sample files to upload exist on [John Deere's Github](https://github.com/JohnDeere) account. Go to the [SampleData](https://github.com/JohnDeere/SampleData) repository to find sample data.###\n",
        "\n",
        "John Deere has a public Github page filled with sample applications for use with the John Deere APIs, sample data to help with using the John Deere APIs, as well as John Deere's open source projects.\n",
        "![John Deere Github](https://github.com/JohnDeere/DevelopWithDeereNotebooks/raw/master/Onboarding/JohnDeereGithub.jpg)\n",
        "\n",
        "Sample data can be downloaded from the \"Sample Data\" repo. It is recommended that you download the [GS3 - 2630 Setup With Boundary And Guidance Lines.zip](https://github.com/JohnDeere/SampleData/blob/master/Display%20data/GS3%20-%202630%20Setup%20With%20Boundary%20And%20Guidance%20Lines.zip), [Gen4 - 4600 Harvest Data.zip](https://github.com/JohnDeere/SampleData/blob/master/Display%20data/Gen4%20-%204600%20Harvest%20Data.zip), and [Gen4 - 4600 Planting Data](https://github.com/JohnDeere/SampleData/blob/master/Display%20data/Gen4%20-%204600%20Planting%20Data.zip).\n",
        "![Downloading Sample Data](https://github.com/JohnDeere/DevelopWithDeereNotebooks/raw/master/Onboarding/DownloadingSampleData.jpg)\n"
      ]
    },
    {
      "cell_type": "markdown",
      "metadata": {
        "id": "7WlZ58PAZYQl",
        "colab_type": "text"
      },
      "source": [
        "###Upload the sample files into the Files tool on John Deere Operations Center. File processing can take a few minutes depending on the size of the file.###\n",
        "\n",
        "Files are grayed out and inaccessible before they have finished processing.\n",
        "![Files Started Uploading](https://github.com/JohnDeere/DevelopWithDeereNotebooks/raw/master/Onboarding/FilesUploaded.jpg)\n",
        "\n",
        "\n",
        "Files are selectable and more details can be discovered after they have finished processing.\n",
        "![Files Processed](https://github.com/JohnDeere/DevelopWithDeereNotebooks/raw/master/Onboarding/FilesProcessed.jpg)"
      ]
    },
    {
      "cell_type": "markdown",
      "metadata": {
        "id": "iTJNC4u0Z3im",
        "colab_type": "text"
      },
      "source": [
        "###Review the Fields panel on the map to see the agronomic data after the files have been processed.###\n",
        "![Fields Processed](https://github.com/JohnDeere/DevelopWithDeereNotebooks/raw/master/Onboarding/FieldsProcessedFromFiles.jpg)"
      ]
    },
    {
      "cell_type": "markdown",
      "metadata": {
        "id": "mJz2iZIKVZnu",
        "colab_type": "text"
      },
      "source": [
        "## Create your application on developer.deere.com"
      ]
    },
    {
      "cell_type": "markdown",
      "metadata": {
        "id": "cxA2BFJ5Vgdw",
        "colab_type": "text"
      },
      "source": [
        "###Go to https://developer.deere.com and log in. First time users will be asked to sign the 'Terms Of Use'.###\n",
        "\n",
        "developer.deere.com and find the log in on the top right\n",
        "![Login With dd.com](https://github.com/JohnDeere/DevelopWithDeereNotebooks/raw/master/Onboarding/developerdeereWithLogin.jpg)\n",
        "\n",
        "Accept the 'Terms of Use'\n",
        "![Signing Terms](https://github.com/JohnDeere/DevelopWithDeereNotebooks/raw/master/Onboarding/SigningTermsOnDeveloperDeere.jpg)"
      ]
    },
    {
      "cell_type": "markdown",
      "metadata": {
        "id": "X7pRa_PsV_jg",
        "colab_type": "text"
      },
      "source": [
        "###Create an application###\n",
        "\n",
        "Select Applications from the user dropdown in the top right.\n",
        "![Applications Link](https://github.com/JohnDeere/DevelopWithDeereNotebooks/raw/master/Onboarding/FindApplications.jpg)\n",
        "\n",
        "Click add application.\n",
        "![Applications Link](https://github.com/JohnDeere/DevelopWithDeereNotebooks/raw/master/Onboarding/AddApplication.jpg)\n",
        "\n",
        "Specify an App Name and Version ID and click Finish \n",
        "![Create Application Screen](https://github.com/JohnDeere/DevelopWithDeereNotebooks/raw/master/Onboarding/CreateApplicatoin.jpg)\n",
        "\n",
        "A new application has now been created. Note that the new application will take up to 20 minutes to fully activate in the system. If you notice any 400 errors while attempting to create an OAuth session (instructions below), the activations process may not yet be complete.\n",
        "![Newly Created Application](https://github.com/JohnDeere/DevelopWithDeereNotebooks/raw/master/Onboarding/NewlyCreatedApp.jpg)"
      ]
    },
    {
      "cell_type": "markdown",
      "metadata": {
        "id": "b20b87gCQiXG",
        "colab_type": "text"
      },
      "source": [
        "## Use your application to invoke the MyJohnDeere APIs\n",
        "\n"
      ]
    },
    {
      "cell_type": "markdown",
      "metadata": {
        "id": "Hez08FIAQPcc",
        "colab_type": "text"
      },
      "source": [
        "### Client configuration"
      ]
    },
    {
      "cell_type": "markdown",
      "metadata": {
        "id": "SvSME_VoREXr",
        "colab_type": "text"
      },
      "source": [
        "The MyJohnDeere APIs leverage OAuth2 for authentication. Before you can request an OAuth2 access token, your application must first be configured for one or more redirect URIs.   To configure your application's redirect URI(s), log into https://developer.deere.com and navigate to your application's profile page and find its OAuth profile.  In the OAuth profile settings, enter a common separated list of redirect URIs that you wish to use (must have at least one). \n",
        "\n",
        "* Note - Only use the first OAuth redirect URI text field in the OAuth profile GUI.  Do not attempt to add additional URI redirect fields (bug in our 3rd party software).  If you need to support multiple redirect URIs,  enter them in as a comma separated list in the first redirect field only (Example - \"http://www.mycompany.com/cusotmer_login,http://www.mycompany.com/employee_login\")."
      ]
    },
    {
      "cell_type": "markdown",
      "metadata": {
        "id": "5pUIElbawlNf",
        "colab_type": "text"
      },
      "source": [
        "![OAuth Profile](https://github.com/JohnDeere/DevelopWithDeereNotebooks/raw/master/Onboarding/OAuthProfileButton.jpg)"
      ]
    },
    {
      "cell_type": "markdown",
      "metadata": {
        "id": "U4SJTBhUTm3n",
        "colab_type": "text"
      },
      "source": [
        "![Newly Created App](https://github.com/JohnDeere/DevelopWithDeereNotebooks/raw/master/Onboarding/OAuthProfileRedirectURI.jpg)"
      ]
    },
    {
      "cell_type": "markdown",
      "metadata": {
        "id": "UOCXHFmveq_e",
        "colab_type": "text"
      },
      "source": [
        "Once you return to your application's main profile page, copy the \"App Id\" and \"Shared Secret\" and assign those value to the `CLIENT_ID` and `CLIENT_SECRET` variables in the following code cell.  Also assign your application's  redirect URI (only one for this exercise) to CLIENT_REDIRECT_URI.\n"
      ]
    },
    {
      "cell_type": "markdown",
      "metadata": {
        "id": "bznx_6dIh6rx",
        "colab_type": "text"
      },
      "source": [
        "![Newly Created App](https://github.com/JohnDeere/DevelopWithDeereNotebooks/raw/master/Onboarding/NewlyCreatedApp.jpg)"
      ]
    },
    {
      "cell_type": "code",
      "metadata": {
        "id": "n6CVExreclV3",
        "colab_type": "code",
        "colab": {}
      },
      "source": [
        "CLIENT_ID = 'place_client_id_here'\n",
        "CLIENT_SECRET = 'place_client_secret_here'\n",
        "CLIENT_REDIRECT_URI = 'place_client_redirect_uri_here'\n",
        "\n",
        "# Leave the line below as-is. This line of code verifies that you've modified the CLIENT_ID, CLIENT_SECRET, CLIENT_REDIRECT_URI to the values above so that your application can complete OAuth\"\n",
        "assert(CLIENT_ID != 'place_client_key_here' and CLIENT_SECRET != 'place_client_secret_here' and CLIENT_REDIRECT_URI != 'place_client_redirect_uri_here'), \"You need to update your CLIENT_ID, CLIENT_SECRET, or CLIENT_REDIRECT_URI in this cell\""
      ],
      "execution_count": 0,
      "outputs": []
    },
    {
      "cell_type": "markdown",
      "metadata": {
        "id": "mcocANvEclWC",
        "colab_type": "text"
      },
      "source": [
        "### Setup\n",
        "\n",
        "Import some utility libraries to assist with setting up and managing an OAuth session.  You can find similar libraries for the programming language of your choice."
      ]
    },
    {
      "cell_type": "code",
      "metadata": {
        "id": "yOoT1d_bclWF",
        "colab_type": "code",
        "colab": {}
      },
      "source": [
        "from requests_oauthlib import OAuth2Session\n",
        "import requests\n",
        "import json"
      ],
      "execution_count": 0,
      "outputs": []
    },
    {
      "cell_type": "markdown",
      "metadata": {
        "id": "mdWKKUy-clWR",
        "colab_type": "text"
      },
      "source": [
        "### Determine the OAuth2 authorization and token grant URLs"
      ]
    },
    {
      "cell_type": "markdown",
      "metadata": {
        "id": "Uq6AIB7uic5F",
        "colab_type": "text"
      },
      "source": [
        "First we will query our well known OAuth URL to determine the OAuth authorization URL, token grant URL, and available scopes."
      ]
    },
    {
      "cell_type": "code",
      "metadata": {
        "id": "QUndY98ZclWU",
        "colab_type": "code",
        "colab": {}
      },
      "source": [
        "WELL_KNOWN_URL = 'https://signin.johndeere.com/oauth2/aus78tnlaysMraFhC1t7/.well-known/oauth-authorization-server'\n",
        "\n",
        "# Query the ./well-known OAuth URL and parse out the authorization URL, the token grant URL, and the available scopes\n",
        "well_known_response = requests.get(WELL_KNOWN_URL)\n",
        "well_known_info = json.loads(well_known_response.text)\n",
        "\n",
        "AUTHORIZATION_URL = well_known_info['authorization_endpoint']\n",
        "TOKEN_GRANT_URL = well_known_info['token_endpoint']\n",
        "AVAILABLE_SCOPES = str(' ').join(well_known_info['scopes_supported'])\n",
        "\n",
        "print('Well Known Authorization URL - ' + AUTHORIZATION_URL)\n",
        "print('Well Known Token Grant URL - ' + TOKEN_GRANT_URL)\n",
        "print('Available Scopes - ' + AVAILABLE_SCOPES)"
      ],
      "execution_count": 0,
      "outputs": []
    },
    {
      "cell_type": "markdown",
      "metadata": {
        "id": "nTvyvCuoXMmZ",
        "colab_type": "text"
      },
      "source": [
        "### Create an OAuth2 session"
      ]
    },
    {
      "cell_type": "markdown",
      "metadata": {
        "id": "QpVX2t02jI2-",
        "colab_type": "text"
      },
      "source": [
        "#### Request an authorization code"
      ]
    },
    {
      "cell_type": "markdown",
      "metadata": {
        "id": "IJcvT6XQa2MG",
        "colab_type": "text"
      },
      "source": [
        "Next we will call the OAuth authorization URL to generate a redirect link that will allow the user to authenticate and grant access to your application.  When requesting authorization, you will need to provide a list of OAuth access scopes (see previous step) that specify the access privalages your application is requesting. The user will be presented with this list of scopes when they are asked to approve your application to access their data.  You can find what scopes are required for each API end point by viewing the individual detailed end point documentation on http://developer.deere.com.  For the API end points that you wish to access, compile a list of associated scopes and pass them along in the following authorization request. Note that you should always request the 'offline_access' scope in order to receive a refresh token (more on that later in this notebook)."
      ]
    },
    {
      "cell_type": "code",
      "metadata": {
        "id": "0puytjdVeSwX",
        "colab_type": "code",
        "colab": {}
      },
      "source": [
        "SCOPES_TO_REQUEST = {'offline_access', 'ag1', 'eq1', 'files'}\n",
        "STATE = \"Some Unique Identifier\"\n",
        "oauth2_session = OAuth2Session(CLIENT_ID,  redirect_uri=CLIENT_REDIRECT_URI, scope=SCOPES_TO_REQUEST)\n",
        "\n",
        "authorization_request, state = oauth2_session.authorization_url(AUTHORIZATION_URL, STATE)\n",
        "print(\"Click on the following link to present the user with sign in form where they authenticate and approve access to your application.\")\n",
        "print(authorization_request) "
      ],
      "execution_count": 0,
      "outputs": []
    },
    {
      "cell_type": "markdown",
      "metadata": {
        "id": "U-LkfpkojCAK",
        "colab_type": "text"
      },
      "source": [
        "After the user authenticates and approves access, copy the authorization code from the redirect URL and paste it in the next code section\")\n",
        "![Verifier Screen](https://github.com/JohnDeere/DevelopWithDeereNotebooks/raw/master/Onboarding/OAuth2Code.jpg)"
      ]
    },
    {
      "cell_type": "markdown",
      "metadata": {
        "id": "uB2OzNktjSX8",
        "colab_type": "text"
      },
      "source": [
        "#### Request an access token"
      ]
    },
    {
      "cell_type": "code",
      "metadata": {
        "id": "kfEi_F4WuDut",
        "colab_type": "code",
        "colab": {}
      },
      "source": [
        "# Update the authorization code here\n",
        "AUTHORIZATION_CODE = 'place_authorization_code_here'\n",
        "\n",
        "# Leave the line below as-is. This is to make sure that you have update the AUTHORIZATION_CODE\n",
        "assert(AUTHORIZATION_CODE != 'place_authorization_code_here'), 'The AUTHORIZATION_CODE in this cell must be replaced by the authorization_code that you recieved'\n",
        "\n",
        "# Now that we have an authorization code, let's fetch an access and refresh token\n",
        "token_response = oauth2_session.fetch_token(TOKEN_GRANT_URL, code=AUTHORIZATION_CODE, client_secret=CLIENT_SECRET)\n",
        "access_token = token_response['access_token']\n",
        "refresh_token = token_response['refresh_token']\n",
        "\n",
        "# Also take note that the access token expiration time is returned.  When the access token expires, \n",
        "# you will want to use the refresh token to request a new access token (described later in this notebook)\n",
        "access_token_expiration = token_response['expires_in']\n",
        "\n",
        "print(\"Access Token: \" + access_token)\n",
        "print(\"Refresh Token: \" + refresh_token)\n",
        "print(\"Hours Token Is Valid: \" + str(int(access_token_expiration/60/60)))"
      ],
      "execution_count": 0,
      "outputs": []
    },
    {
      "cell_type": "markdown",
      "metadata": {
        "id": "emb3Jen7jsVt",
        "colab_type": "text"
      },
      "source": [
        "### Invoking an API"
      ]
    },
    {
      "cell_type": "markdown",
      "metadata": {
        "id": "62MNdbsmeIwT",
        "colab_type": "text"
      },
      "source": [
        "Now that you have an access token, you are ready to access the MyJohnDeere APIs. The [API Catalog](https://developer.deere.com/#!documentation&doc=myjohndeere%2FapiCatalog.htm&anchor=) is the default starting place that most API sessions with the MyJohnDeere API should begin. The MyJohnDeere API is designed to be [`discoverable`](https://www.baeldung.com/restful-web-service-discoverability). This means that your application should be able to start a session at the API Catalog and find everything else your application needs for your feature via [`links.`](https://developer.deere.com/#!documentation&doc=.%2Fmyjohndeere%2Flinks.htm&anchor=)"
      ]
    },
    {
      "cell_type": "code",
      "metadata": {
        "id": "xXmyyjowclWf",
        "colab_type": "code",
        "colab": {}
      },
      "source": [
        "MYJOHNDEERE_V3_JSON_HEADERS = { 'Accept': 'application/vnd.deere.axiom.v3+json',\n",
        "                                'Content-Type': 'application/vnd.deere.axiom.v3+json'}\n",
        "\n",
        "# If your app happens to be already approved for production, then use the partnerapi.deere.com, otherwise stick with sandboxapi.deere.com\n",
        "API_CATALOG_URI = 'https://sandboxapi.deere.com/platform/'\n",
        "#API_CATALOG_URI = 'https://partnerapi.deere.com/platform/'\n",
        "\n",
        "api_catalog_response = oauth2_session.get(API_CATALOG_URI, headers=MYJOHNDEERE_V3_JSON_HEADERS)               "
      ],
      "execution_count": 0,
      "outputs": []
    },
    {
      "cell_type": "markdown",
      "metadata": {
        "id": "SoF7r6okgcPA",
        "colab_type": "text"
      },
      "source": [
        "We follow the standard [HTTP status codes ](https://en.wikipedia.org/wiki/List_of_HTTP_status_codes) with our API responses. You should see a 200 response for the API call in the previous cell."
      ]
    },
    {
      "cell_type": "code",
      "metadata": {
        "id": "VSm8OLl8tYcR",
        "colab_type": "code",
        "colab": {}
      },
      "source": [
        "api_catalog_response.status_code"
      ],
      "execution_count": 0,
      "outputs": []
    },
    {
      "cell_type": "markdown",
      "metadata": {
        "id": "9cjMCuVlpVmw",
        "colab_type": "text"
      },
      "source": [
        "The MyJohnDeere API includes support for a variety of headers, both for requests coming into the MyJohnDeere API as well as responses coming from the MyJohnDeere API. Below we'll look at the headers being returned by the MyJohnDeere API."
      ]
    },
    {
      "cell_type": "code",
      "metadata": {
        "id": "eeaARGppt36Z",
        "colab_type": "code",
        "colab": {}
      },
      "source": [
        "api_catalog_response.headers"
      ],
      "execution_count": 0,
      "outputs": []
    },
    {
      "cell_type": "markdown",
      "metadata": {
        "id": "PCfUxJCaa7dO",
        "colab_type": "text"
      },
      "source": [
        "Next let's take a look at the `API Catalog` payload.  Notice that it contains an array of `links` that can help you discover yet more parts of the MyJohnDeere API."
      ]
    },
    {
      "cell_type": "code",
      "metadata": {
        "id": "4ozvO2scrM4x",
        "colab_type": "code",
        "colab": {}
      },
      "source": [
        "api_catalog_response.json()"
      ],
      "execution_count": 0,
      "outputs": []
    },
    {
      "cell_type": "markdown",
      "metadata": {
        "id": "4OsOvwqlqeyX",
        "colab_type": "text"
      },
      "source": [
        "### Following links"
      ]
    },
    {
      "cell_type": "markdown",
      "metadata": {
        "id": "8AJG8h-qqlF1",
        "colab_type": "text"
      },
      "source": [
        " First, we'll get the links from the `API Catalog response`."
      ]
    },
    {
      "cell_type": "code",
      "metadata": {
        "id": "m3vhsmOwq-17",
        "colab_type": "code",
        "colab": {}
      },
      "source": [
        "links_array_from_api_catalog_response = api_catalog_response.json()['links']\n",
        "links_array_from_api_catalog_response"
      ],
      "execution_count": 0,
      "outputs": []
    },
    {
      "cell_type": "markdown",
      "metadata": {
        "id": "TLI-f8rpsH2F",
        "colab_type": "text"
      },
      "source": [
        "We will now go through all of the links that are available to find the link for the `organizations`. The `rel` attribute tells us what the link represents while the `uri` attributes tells us where within the MyJohnDeere API to go to discover those resources."
      ]
    },
    {
      "cell_type": "code",
      "metadata": {
        "id": "HDHSFWTMrjGH",
        "colab_type": "code",
        "colab": {}
      },
      "source": [
        "organizations_link = None\n",
        "\n",
        "for link_object in links_array_from_api_catalog_response:\n",
        "  if(link_object['rel'] == 'organizations'):\n",
        "    organizations_link = link_object['uri']\n",
        "    break;\n",
        "    \n",
        "organizations_link"
      ],
      "execution_count": 0,
      "outputs": []
    },
    {
      "cell_type": "markdown",
      "metadata": {
        "id": "tNcDfyi_tAk_",
        "colab_type": "text"
      },
      "source": [
        "Using the same OAuth session object as before, we'll make another `GET` call, only this time to the `organizations` link that we discovered from the `API Catalog`. Unlike the `API Catalog`, this response contains an object with attributes and links. Below we can see the `JSON` response with information like the name of the organization as well as if the logged in user is a staff member of that organization."
      ]
    },
    {
      "cell_type": "code",
      "metadata": {
        "id": "-BBbgkBVsAr_",
        "colab_type": "code",
        "colab": {}
      },
      "source": [
        "organizations_response = oauth2_session.get(organizations_link, headers = MYJOHNDEERE_V3_JSON_HEADERS)\n",
        "organizations_response.json()"
      ],
      "execution_count": 0,
      "outputs": []
    },
    {
      "cell_type": "markdown",
      "metadata": {
        "id": "5tXYgLPpmidT",
        "colab_type": "text"
      },
      "source": [
        "### Refreshing your OAuth2 access token\n"
      ]
    },
    {
      "cell_type": "markdown",
      "metadata": {
        "id": "2OQfVqYKmrn9",
        "colab_type": "text"
      },
      "source": [
        "With OAuth2, the access token is only valid for certain amount of time.  When we first requested an access token in a previous step, we parsed out the time-to-live expiration time for the access token.  When your access token expires, you can use your refresh token to request a new access token as follows.  Note that your refresh token will remain valid and can be used to grant new access tokens as long as it is used within one year.  If it is not used within the time period of one year, it too will expire.  If this occurs, you must go through setting up a new OAuth connection where the user must once again login and authorize."
      ]
    },
    {
      "cell_type": "code",
      "metadata": {
        "id": "spXm-Icjmp_L",
        "colab_type": "code",
        "colab": {}
      },
      "source": [
        "token_response = oauth2_session.refresh_token(TOKEN_GRANT_URL, refresh_token=refresh_token, auth=(CLIENT_ID, CLIENT_SECRET))\n",
        "access_token = token_response['access_token']\n",
        "refresh_token = token_response['refresh_token']\n",
        "print( \"Access Token: \" + access_token)\n",
        "print( \"Refresh Token: \" + refresh_token)"
      ],
      "execution_count": 0,
      "outputs": []
    }
  ]
}